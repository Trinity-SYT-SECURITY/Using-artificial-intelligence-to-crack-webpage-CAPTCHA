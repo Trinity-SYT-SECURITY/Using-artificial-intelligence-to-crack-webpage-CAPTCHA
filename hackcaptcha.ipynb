{
  "nbformat": 4,
  "nbformat_minor": 0,
  "metadata": {
    "colab": {
      "name": "OKSelenium.ipynb",
      "provenance": [],
      "collapsed_sections": []
    },
    "kernelspec": {
      "name": "python3",
      "display_name": "Python 3"
    },
    "language_info": {
      "name": "python"
    }
  },
  "cells": [
    {
      "cell_type": "markdown",
      "metadata": {
        "id": "RYEGrpvSlETc"
      },
      "source": [
        "# 安裝套件"
      ]
    },
    {
      "cell_type": "code",
      "metadata": {
        "id": "Q4qlQy9Viacz",
        "colab": {
          "base_uri": "https://localhost:8080/"
        },
        "outputId": "045f49dc-c92d-4b52-ac70-f78300943223"
      },
      "source": [
        "!apt update\n",
        "!apt install chromium-chromedriver\n",
        "!pip install selenium\n",
        "!mkdir letters"
      ],
      "execution_count": 20,
      "outputs": [
        {
          "output_type": "stream",
          "name": "stdout",
          "text": [
            "\u001b[33m\r0% [Working]\u001b[0m\r            \rHit:1 https://developer.download.nvidia.com/compute/cuda/repos/ubuntu1804/x86_64  InRelease\n",
            "\u001b[33m\r0% [Connecting to archive.ubuntu.com] [Connecting to security.ubuntu.com (185.1\u001b[0m\u001b[33m\r0% [1 InRelease gpgv 1,581 B] [Connecting to archive.ubuntu.com] [Connecting to\u001b[0m\r                                                                               \rHit:2 https://cloud.r-project.org/bin/linux/ubuntu bionic-cran40/ InRelease\n",
            "\u001b[33m\r0% [1 InRelease gpgv 1,581 B] [Connecting to archive.ubuntu.com] [Connecting to\u001b[0m\r                                                                               \rIgn:3 https://developer.download.nvidia.com/compute/machine-learning/repos/ubuntu1804/x86_64  InRelease\n",
            "Hit:4 https://developer.download.nvidia.com/compute/machine-learning/repos/ubuntu1804/x86_64  Release\n",
            "Hit:5 http://security.ubuntu.com/ubuntu bionic-security InRelease\n",
            "Hit:6 http://archive.ubuntu.com/ubuntu bionic InRelease\n",
            "Hit:7 http://archive.ubuntu.com/ubuntu bionic-updates InRelease\n",
            "Hit:8 http://ppa.launchpad.net/c2d4u.team/c2d4u4.0+/ubuntu bionic InRelease\n",
            "Hit:9 http://archive.ubuntu.com/ubuntu bionic-backports InRelease\n",
            "Hit:11 http://ppa.launchpad.net/cran/libgit2/ubuntu bionic InRelease\n",
            "Hit:12 http://ppa.launchpad.net/deadsnakes/ppa/ubuntu bionic InRelease\n",
            "Hit:13 http://ppa.launchpad.net/graphics-drivers/ppa/ubuntu bionic InRelease\n",
            "Reading package lists... Done\n",
            "Building dependency tree       \n",
            "Reading state information... Done\n",
            "66 packages can be upgraded. Run 'apt list --upgradable' to see them.\n",
            "Reading package lists... Done\n",
            "Building dependency tree       \n",
            "Reading state information... Done\n",
            "chromium-chromedriver is already the newest version (100.0.4896.127-0ubuntu0.18.04.1).\n",
            "The following packages were automatically installed and are no longer required:\n",
            "  libnvidia-common-460 nsight-compute-2020.2.0\n",
            "Use 'apt autoremove' to remove them.\n",
            "0 upgraded, 0 newly installed, 0 to remove and 66 not upgraded.\n",
            "Requirement already satisfied: selenium in /usr/local/lib/python3.7/dist-packages (4.1.5)\n",
            "Requirement already satisfied: trio~=0.17 in /usr/local/lib/python3.7/dist-packages (from selenium) (0.20.0)\n",
            "Requirement already satisfied: urllib3[secure,socks]~=1.26 in /usr/local/lib/python3.7/dist-packages (from selenium) (1.26.9)\n",
            "Requirement already satisfied: trio-websocket~=0.9 in /usr/local/lib/python3.7/dist-packages (from selenium) (0.9.2)\n",
            "Requirement already satisfied: async-generator>=1.9 in /usr/local/lib/python3.7/dist-packages (from trio~=0.17->selenium) (1.10)\n",
            "Requirement already satisfied: sniffio in /usr/local/lib/python3.7/dist-packages (from trio~=0.17->selenium) (1.2.0)\n",
            "Requirement already satisfied: idna in /usr/local/lib/python3.7/dist-packages (from trio~=0.17->selenium) (2.10)\n",
            "Requirement already satisfied: outcome in /usr/local/lib/python3.7/dist-packages (from trio~=0.17->selenium) (1.1.0)\n",
            "Requirement already satisfied: attrs>=19.2.0 in /usr/local/lib/python3.7/dist-packages (from trio~=0.17->selenium) (21.4.0)\n",
            "Requirement already satisfied: sortedcontainers in /usr/local/lib/python3.7/dist-packages (from trio~=0.17->selenium) (2.4.0)\n",
            "Requirement already satisfied: wsproto>=0.14 in /usr/local/lib/python3.7/dist-packages (from trio-websocket~=0.9->selenium) (1.1.0)\n",
            "Requirement already satisfied: pyOpenSSL>=0.14 in /usr/local/lib/python3.7/dist-packages (from urllib3[secure,socks]~=1.26->selenium) (22.0.0)\n",
            "Requirement already satisfied: cryptography>=1.3.4 in /usr/local/lib/python3.7/dist-packages (from urllib3[secure,socks]~=1.26->selenium) (37.0.2)\n",
            "Requirement already satisfied: certifi in /usr/local/lib/python3.7/dist-packages (from urllib3[secure,socks]~=1.26->selenium) (2021.10.8)\n",
            "Requirement already satisfied: PySocks!=1.5.7,<2.0,>=1.5.6 in /usr/local/lib/python3.7/dist-packages (from urllib3[secure,socks]~=1.26->selenium) (1.7.1)\n",
            "Requirement already satisfied: cffi>=1.12 in /usr/local/lib/python3.7/dist-packages (from cryptography>=1.3.4->urllib3[secure,socks]~=1.26->selenium) (1.15.0)\n",
            "Requirement already satisfied: pycparser in /usr/local/lib/python3.7/dist-packages (from cffi>=1.12->cryptography>=1.3.4->urllib3[secure,socks]~=1.26->selenium) (2.21)\n",
            "Requirement already satisfied: h11<1,>=0.9.0 in /usr/local/lib/python3.7/dist-packages (from wsproto>=0.14->trio-websocket~=0.9->selenium) (0.13.0)\n",
            "Requirement already satisfied: typing-extensions in /usr/local/lib/python3.7/dist-packages (from h11<1,>=0.9.0->wsproto>=0.14->trio-websocket~=0.9->selenium) (4.2.0)\n",
            "mkdir: cannot create directory ‘letters’: File exists\n"
          ]
        }
      ]
    },
    {
      "cell_type": "markdown",
      "metadata": {
        "id": "3NK9IcXalKka"
      },
      "source": [
        "# 抓Screenshot"
      ]
    },
    {
      "cell_type": "code",
      "metadata": {
        "id": "OmCYuB7-gkr6"
      },
      "source": [
        "# install chromium, its driver, and selenium\n",
        "# set options to be headless, ..\n",
        "from selenium import webdriver\n",
        "options = webdriver.ChromeOptions()\n",
        "\n",
        "#//基礎參數設置\n",
        "options.add_argument('--headless')#無窗口模式\n",
        "options.add_argument('--no-sandbox') #禁用沙盒模式\n",
        "options.add_argument('--disable-dev-shm-usage')\n",
        "# open it, go to a website, and get results\n",
        "\n",
        "#建立瀏覽器對象,Chrome瀏覽器指定瀏覽器Firefox ：火狐Opera 歌劇院， Ie瀏覽器，Safari 蘋果瀏覽器\n",
        "\n",
        "driver = webdriver.Chrome(options=options)\n",
        "driver.get(\"http://siliconexam.com/st-register.php\")##使用瀏覽器訪問網站\n",
        "\n"
      ],
      "execution_count": 21,
      "outputs": []
    },
    {
      "cell_type": "code",
      "metadata": {
        "id": "q93Sk0oPq5sW"
      },
      "source": [
        "from selenium import webdriver\n",
        "import unittest\n",
        "from selenium.webdriver.common.keys import Keys\n",
        "from PIL import Image\n",
        "from selenium.webdriver.chrome.options import Options\n",
        "from selenium.webdriver.chrome.service import Service\n",
        "from selenium.webdriver.common.by import By\n"
      ],
      "execution_count": 22,
      "outputs": []
    },
    {
      "cell_type": "code",
      "metadata": {
        "id": "NzXUIfEv2o2C"
      },
      "source": [
        "import matplotlib.pyplot as plt\n",
        "import numpy as np\n",
        "import cv2\n",
        "import os\n",
        "%matplotlib inline"
      ],
      "execution_count": 23,
      "outputs": []
    },
    {
      "cell_type": "code",
      "metadata": {
        "id": "kSzY1-SQjPHJ"
      },
      "source": [
        "from selenium.webdriver.support.ui import WebDriverWait\n",
        "from selenium.webdriver.common.by import By\n",
        "from selenium.webdriver.support import expected_conditions as EC"
      ],
      "execution_count": 24,
      "outputs": []
    },
    {
      "cell_type": "code",
      "metadata": {
        "id": "2V4KixiIhj_C"
      },
      "source": [
        "w, h = 800,700\n",
        "driver.set_window_size(w, h)\n",
        "driver.execute_script(\"window.scrollTo(0,document.body.scrollHeight);\")#用execute_script方法作為驅動程序\n",
        "document_height = driver.execute_script(\"return document.body.scrollHeight\")\n",
        "driver.save_screenshot('bottom.png')\n",
        "\n",
        "\n",
        "captchaimage = driver.find_element(By.CLASS_NAME,\"tp\") #class複數定位\n",
        "captchaimage = driver.find_element(By.XPATH,'//img[@id=\"chkimg\"]') #xpath複數定位\n",
        "\n",
        "left = captchaimage.location['x']\n",
        "right = left + captchaimage.size['width']\n",
        "top = h - (document_height - captchaimage.location['y'])\n",
        "bottom = top + captchaimage.size['height']\n",
        "\n",
        "img = Image.open('bottom.png')\n",
        "captcha = img.crop((left, top, right, bottom))\n",
        "captcha.save('captcha.png')\n",
        "Image.open('captcha.png')\n",
        "img = plt.imread('captcha.png')"
      ],
      "execution_count": 25,
      "outputs": []
    },
    {
      "cell_type": "markdown",
      "metadata": {
        "id": "WHgnLNYwHcc7"
      },
      "source": [
        "**裁切圖片及圖片單純化**\n",
        "\n"
      ]
    },
    {
      "cell_type": "code",
      "metadata": {
        "id": "W1P2YYFjJIES"
      },
      "source": [
        "def defeatCaptcha():\n",
        "\n",
        "  image = cv2.imread('captcha.png')#讀取剛才擷取的captcha圖片\n",
        "  crop=image[20:35,50:160]#把圖形不要的地方切掉，這邊切除的長寬高要自己精算，步驟比較麻煩\n",
        "  hsv=cv2.cvtColor(crop,cv2.COLOR_BGR2HSV)#圖形轉換hsv顏色空間\n",
        "  lower_black=np.array([0,0,0])#定義空間黑色的最小值\n",
        "  upper_black=np.array([179,50,100])#定義空間黑色的最大值\n",
        "  kernel = np.ones((2,2),np.uint8)#定義morphology核心\n",
        "\n",
        "  mask = cv2.inRange(hsv, lower_black, upper_black)#把圖形遮罩出來，可過濾雜訊\n",
        "  \n",
        "  #利用cv2.morphologyEx將遮罩的圖形和核心進行運算，可得出closing圖形，接下來我們再用kernel把dilation的圖形取出，此時雜訊就被過濾掉了\n",
        "  closing = cv2.morphologyEx(mask, cv2.MORPH_CLOSE, kernel)\n",
        "  dilation = cv2.dilate(closing,kernel,iterations = 1)\n",
        "\n",
        "\n",
        "  #設定內部迴圈，因為有6個文字，每個文字的寬度為20，之後再用一個list來存放6個文字的圖檔，並且用一個變數breakcode來存放6個真正的文字\n",
        "  j=1 \n",
        "  crops={}\n",
        "  breakcode=''\n",
        "\n",
        "\n",
        "  #迴圈從1到7共6個，每一個文字都被寫入從crop1.png到crop7.png。這些圖形都是從dilation，也就是處理單純化過之後的圖形來切\n",
        "  for i in range(1,7):\n",
        "    cv2.imwrite(\"crop\"+str(i)+\".png\",dilation[4:16, j:j+9])\n",
        "    crops[i]=cv2.imread(\"crop\"+str(i)+\".png\")#把6個圖檔讀入list中\n",
        "    breakcode+=str(getNumber(crops[i]))#把每個圖檔送入getNumber這個函數，會獲得圖檔所代表的文字，然後再把每個文字都串起來，最後成為一個長度為6的字串\n",
        "    j=j+20#把j+20，這就是dilation圖檔的x字元寬度\n",
        "  return breakcode#將破解完的captcha文字傳回\n",
        "\n",
        "\n",
        "#mse公式實作，有了mse，就可以計算預測文字屬於這15個文字中的哪一個最可能值，之後就可以用getNumber函數來猜文字\n",
        "def mse(imageA, imageB):\n",
        "  err = np.sum((imageA.astype(\"float\") - imageB.astype(\"float\")) ** 2)\n",
        "  err /= float(imageA.shape[0] * imageA.shape[1])\n",
        "  return err\n",
        "\n",
        "\n",
        "\n",
        "def getNumber(pic):\n",
        "  min_a = 999999999#先設定最小值先為999999999，這裡隨便設定一個極大值，之後會被替換\n",
        "  min_png = None #設定none值等一下來存放png\n",
        "  for png in os.listdir('letters'):#建立一個迴圈，把letter目錄下的所有圖形比對一次，letters下的所有圖形是我們之前建立的那15個文字的圖\n",
        "    ref = cv2.imread(\"letters/\" + png)#循序讀取這15個圖\n",
        "    if mse(ref, pic) < min_a:#ref是樣本圖，pic是captcha傳來的圖，進行mse比較，如果小於最小值的min_a，就把min_a替換成兩圈圖之間的比較值，此時再比較一次，之後把png圖檔的檔名(0~9,a~e的文字)存放在min_png中\n",
        "      min_a = mse(ref, pic)\n",
        "      min_png = png\n",
        "    return min_png[0]#傳回文字\n",
        "\n",
        "\n",
        "  "
      ],
      "execution_count": 26,
      "outputs": []
    },
    {
      "cell_type": "markdown",
      "metadata": {
        "id": "C--FQU9sbJY6"
      },
      "source": [
        "OCR\n"
      ]
    },
    {
      "cell_type": "code",
      "metadata": {
        "colab": {
          "base_uri": "https://localhost:8080/"
        },
        "id": "FmbT_tXqrKlZ",
        "outputId": "89f41fc3-a022-478b-d72f-a90d20ab54fe"
      },
      "source": [
        "!pip install pytesseract\n",
        "!apt install tesseract-ocr\n",
        "try: \n",
        "  from PIL import Image \n",
        "except ImportError: \n",
        "  import Image \n",
        "import pytesseract\n",
        "captcha = Image.open(\"captcha.png\") \n",
        "result = pytesseract.image_to_string(captcha)\n",
        "print(result)\n",
        "captcha = defeatCaptcha()\n",
        "print(captcha)"
      ],
      "execution_count": 27,
      "outputs": [
        {
          "output_type": "stream",
          "name": "stdout",
          "text": [
            "Requirement already satisfied: pytesseract in /usr/local/lib/python3.7/dist-packages (0.3.9)\n",
            "Requirement already satisfied: packaging>=21.3 in /usr/local/lib/python3.7/dist-packages (from pytesseract) (21.3)\n",
            "Requirement already satisfied: Pillow>=8.0.0 in /usr/local/lib/python3.7/dist-packages (from pytesseract) (9.1.0)\n",
            "Requirement already satisfied: pyparsing!=3.0.5,>=2.0.2 in /usr/local/lib/python3.7/dist-packages (from packaging>=21.3->pytesseract) (3.0.8)\n",
            "Reading package lists... Done\n",
            "Building dependency tree       \n",
            "Reading state information... Done\n",
            "tesseract-ocr is already the newest version (4.00~git2288-10f4998a-2).\n",
            "The following packages were automatically installed and are no longer required:\n",
            "  libnvidia-common-460 nsight-compute-2020.2.0\n",
            "Use 'apt autoremove' to remove them.\n",
            "0 upgraded, 0 newly installed, 0 to remove and 66 not upgraded.\n",
            " \n",
            "\f\n",
            "NoneNoneNoneNoneNoneNone\n"
          ]
        }
      ]
    },
    {
      "cell_type": "code",
      "metadata": {
        "colab": {
          "base_uri": "https://localhost:8080/"
        },
        "id": "svKH2ZPYqJpd",
        "outputId": "e3d9411f-4e7b-4bc7-e64d-cfa7aee6187b"
      },
      "source": [
        "!pip install pytesseract\n"
      ],
      "execution_count": 28,
      "outputs": [
        {
          "output_type": "stream",
          "name": "stdout",
          "text": [
            "Requirement already satisfied: pytesseract in /usr/local/lib/python3.7/dist-packages (0.3.9)\n",
            "Requirement already satisfied: packaging>=21.3 in /usr/local/lib/python3.7/dist-packages (from pytesseract) (21.3)\n",
            "Requirement already satisfied: Pillow>=8.0.0 in /usr/local/lib/python3.7/dist-packages (from pytesseract) (9.1.0)\n",
            "Requirement already satisfied: pyparsing!=3.0.5,>=2.0.2 in /usr/local/lib/python3.7/dist-packages (from packaging>=21.3->pytesseract) (3.0.8)\n"
          ]
        }
      ]
    },
    {
      "cell_type": "code",
      "metadata": {
        "colab": {
          "base_uri": "https://localhost:8080/"
        },
        "id": "-uQUuICVXD3v",
        "outputId": "26024c3c-1ebf-4536-940a-ca6465808b2d"
      },
      "source": [
        "!pip install pyocr"
      ],
      "execution_count": 29,
      "outputs": [
        {
          "output_type": "stream",
          "name": "stdout",
          "text": [
            "Requirement already satisfied: pyocr in /usr/local/lib/python3.7/dist-packages (0.8.2)\n",
            "Requirement already satisfied: Pillow in /usr/local/lib/python3.7/dist-packages (from pyocr) (9.1.0)\n"
          ]
        }
      ]
    },
    {
      "cell_type": "code",
      "metadata": {
        "colab": {
          "base_uri": "https://localhost:8080/",
          "height": 230
        },
        "id": "6tbeELKHbPCJ",
        "outputId": "d3499e86-05b6-46da-f265-6c6dea1d5c10"
      },
      "source": [
        "import pytesseract\n",
        "import shutil\n",
        "import os\n",
        "import random\n",
        "import shutil\n",
        "import random\n",
        "try:\n",
        " from PIL import Image\n",
        "except ImportError:\n",
        " import Image\n",
        "from PIL import Image\n",
        "import pyocr\n",
        "import cv2\n",
        "from google.colab.patches import cv2_imshow\n",
        "\n",
        "from IPython.display import Image\n",
        "from IPython.display import display\n",
        "\n",
        "img1 = Image(filename = '/content/crop1.png')\n",
        "img2 = Image(filename = '/content/crop2.png')\n",
        "img3 = Image(filename = '/content/crop3.png')\n",
        "img4 = Image(filename = '/content/crop4.png')\n",
        "img5 = Image(filename = '/content/crop5.png')\n",
        "img6 = Image(filename = '/content/crop6.png')\n",
        "\n",
        "paths = ['/content/crop1.png','/content/crop2.png',\n",
        "'/content/crop3.png',\n",
        "'/content/crop4.png',\n",
        "'/content/crop5.png',\n",
        "'/content/crop6.png']\n",
        "\n",
        "display(img1,img2,img3,img4,img5,img6)\n",
        "\n",
        "from PIL import Image\n",
        "\n",
        "#分別開啟圖片\n",
        "img1 = Image.open('/content/crop1.png')\n",
        "img2 = Image.open('/content/crop2.png')\n",
        "img3 = Image.open('/content/crop3.png')\n",
        "img4 = Image.open('/content/crop4.png')\n",
        "img5 = Image.open('/content/crop5.png')\n",
        "img6 = Image.open('/content/crop6.png')\n",
        "\n",
        "imgList = [img1,img2,img3,img4,img5,img6]\n",
        "\n",
        "for item in imgList:\n",
        "    print(pytesseract.image_to_string(item))"
      ],
      "execution_count": 30,
      "outputs": [
        {
          "output_type": "display_data",
          "data": {
            "text/plain": [
              "<IPython.core.display.Image object>"
            ],
            "image/png": "[encoded data removed]"
          },
          "metadata": {}
        },
        {
          "output_type": "display_data",
          "data": {
            "text/plain": [
              "<IPython.core.display.Image object>"
            ],
            "image/png": "[encoded data removed]"
          },
          "metadata": {}
        },
        {
          "output_type": "display_data",
          "data": {
            "text/plain": [
              "<IPython.core.display.Image object>"
            ],
            "image/png": "[encoded data removed]"
          },
          "metadata": {}
        },
        {
          "output_type": "display_data",
          "data": {
            "text/plain": [
              "<IPython.core.display.Image object>"
            ],
            "image/png": "[encoded data removed]"
          },
          "metadata": {}
        },
        {
          "output_type": "display_data",
          "data": {
            "text/plain": [
              "<IPython.core.display.Image object>"
            ],
            "image/png": "[encoded data removed]"
          },
          "metadata": {}
        },
        {
          "output_type": "display_data",
          "data": {
            "text/plain": [
              "<IPython.core.display.Image object>"
            ],
            "image/png": "[encoded data removed]"
          },
          "metadata": {}
        },
        {
          "output_type": "stream",
          "name": "stdout",
          "text": [
            "\f\n",
            "\f\n",
            "\f\n",
            "\f\n",
            "\f\n",
            "\f\n"
          ]
        }
      ]
    },
    {
      "cell_type": "markdown",
      "metadata": {
        "id": "6kuFEacWblkM"
      },
      "source": [
        "captcha test \n"
      ]
    },
    {
      "cell_type": "code",
      "metadata": {
        "id": "311yitwfYUys"
      },
      "source": [
        "import numpy as np #將 PIL 庫讀取的影象轉換為 NumPy 陣列\n",
        "import cv2\n",
        "import os\n",
        "from matplotlib import pyplot as plt\n",
        "\n",
        "try:\n",
        "    from PIL import Image\n",
        "except ImportError:\n",
        "    import Image\n",
        "\n",
        "import pytesseract\n",
        "def testcaptcha():\n",
        "# some settings that I like\n",
        "  plt.rcParams['figure.dpi'] = 200\n",
        "  img = cv2.imread('captcha.png')\n",
        "  cropped_img = img[20:35, 50:160]\n",
        "  plt.imshow(cropped_img[..., ::-1])\n",
        "  plt.axis('off')\n",
        "  hsv = cv2.cvtColor(cropped_img, cv2.COLOR_BGR2HSV)\n",
        "  #用法：zeros(shape, dtype=float)\n",
        "  lower_bound = np.zeros(3, dtype=np.uint8)#numpy.zeros()函数提供给定形状和类型的新数组, 并用零填充。\n",
        "  #建立並初始化 numpy 陣列。numpy.array() 函式會將 PIL 影象轉換為 3 維陣列\n",
        "  upper_bound = np.array([179, 50, 100], dtype=np.uint8)#一維陣列\n",
        "\n",
        "  masked_img = cv2.inRange(hsv, lower_bound, upper_bound)#利用cv2.inRange函數設閾值，去除背景部分\n",
        "\n",
        "  plt.imshow(masked_img, cmap=plt.cm.gray)\n",
        "\n",
        "  plt.axis('off')\n",
        "  kernel = cv2.getStructuringElement(cv2.MORPH_RECT, (2, 2))\n",
        "\n",
        "  closing_img = cv2.morphologyEx(masked_img, cv2.MORPH_CLOSE, kernel)\n",
        "  dilated_img = cv2.dilate(closing_img, kernel)\n",
        "\n",
        "  plt.imshow(dilated_img, cmap=plt.cm.gray)\n",
        "  try:\n",
        "    os.makedirs('./cropped', exist_ok=True)\n",
        "  except OSError:\n",
        "    pass\n",
        "\n",
        "  masked_rgb = cv2.cvtColor(masked_img, cv2.COLOR_GRAY2RGB)\n",
        "# masked_rgb = cv2.cvtColor(cropped_img, cv2.COLOR_BGR2RGB)\n",
        "# tess_config = r'--oem 3 --psm 7'\n",
        "  tess_config = r'--oem 3 --psm 1 -c tessedit_char_whitelist=abcdefghijklmnopqrstuvwxyz0123456789'\n",
        "  result = pytesseract.image_to_string(masked_rgb, config=tess_config)\n",
        "# result = pytesseract.image_to_data(masked_rgb, config=tess_config)\n",
        "  print(result)\n",
        "# print(str(result))\n",
        "  plt.imshow(masked_rgb)\n",
        "# plt.title(str(result))\n",
        "  return result  "
      ],
      "execution_count": 31,
      "outputs": []
    },
    {
      "cell_type": "code",
      "metadata": {
        "id": "pW45hVvmdk8s"
      },
      "source": [
        "import numpy as np\n",
        "import cv2\n",
        "import os\n",
        "from matplotlib import pyplot as plt\n",
        "\n",
        "try:\n",
        "    from PIL import Image\n",
        "except ImportError:\n",
        "    import Image\n",
        "\n",
        "import pytesseract #機器學習\n",
        "\n",
        "\n",
        "plt.rcParams['figure.dpi'] = 200 #每英吋點數\n"
      ],
      "execution_count": 32,
      "outputs": []
    },
    {
      "cell_type": "markdown",
      "metadata": {
        "id": "DEpTEqXudnMK"
      },
      "source": [
        "這是查看哪個部分出錯的最佳方法。 選擇感興趣區域 (ROI) 圖像處理的第一部分通常涉及獲取要處理的圖像部分。這使我們能夠降低處理能力，有時會獲得更好的結果，因為我們可以消除大部分噪音。"
      ]
    },
    {
      "cell_type": "code",
      "metadata": {
        "colab": {
          "base_uri": "https://localhost:8080/",
          "height": 177
        },
        "id": "BRiLZmm7ec2f",
        "outputId": "1498d74c-0311-4169-a2dc-279c43938073"
      },
      "source": [
        "img = cv2.imread('captcha.png')\n",
        "cropped_img = img[20:35, 50:160]\n",
        "\n",
        "plt.imshow(cropped_img[..., ::-1])\n",
        "plt.axis('off')##畫上刻度"
      ],
      "execution_count": 33,
      "outputs": [
        {
          "output_type": "execute_result",
          "data": {
            "text/plain": [
              "(-0.5, 109.5, 14.5, -0.5)"
            ]
          },
          "metadata": {},
          "execution_count": 33
        },
        {
          "output_type": "display_data",
          "data": {
            "text/plain": [
              "<Figure size 1200x800 with 1 Axes>"
            ],
            "image/png": "[encoded data removed]"
          },
          "metadata": {
            "needs_background": "light"
          }
        }
      ]
    },
    {
      "cell_type": "markdown",
      "metadata": {
        "id": "GLpqSLggeby8"
      },
      "source": [
        "\n",
        "圖像二值化 也是圖像處理中非常重要的一步。清除大部分背景並為圖像添加更多對比度，以便計算機可以輕鬆識別事物。"
      ]
    },
    {
      "cell_type": "code",
      "metadata": {
        "colab": {
          "base_uri": "https://localhost:8080/",
          "height": 777
        },
        "id": "e1DkL65NX-NS",
        "outputId": "f9e60965-14fa-4b16-8803-d281764fa595"
      },
      "source": [
        "hsv = cv2.cvtColor(cropped_img, cv2.COLOR_BGR2HSV)\n",
        "lower_bound = np.zeros(3, dtype=np.uint8)\n",
        "upper_bound = np.array([179, 50, 100], dtype=np.uint8)\n",
        "\n",
        "masked_img = cv2.inRange(hsv, lower_bound, upper_bound)\n",
        "\n",
        "plt.imshow(masked_img, cmap=plt.cm.gray)\n",
        "plt.axis('off')\n",
        "\n",
        "# I prefer using opencv native functions, as this\n",
        "# tells people the context of what we are doing\n",
        "# kernel = np.ones((2, 2), dtype=np.uint8)\n",
        "\n",
        "kernel = cv2.getStructuringElement(cv2.MORPH_RECT, (2, 2))#cv2.getStructuringElement( ) 返回指定形状和尺寸的结构元素。\n",
        "\n",
        "closing_img = cv2.morphologyEx(masked_img, cv2.MORPH_CLOSE, kernel)\n",
        "#opencv中morphologyEx()函数是一种形态学变化函数。数学形态学可以理解为一种滤波行为，因此也称为形态学滤波。\n",
        "#滤波中用到的滤波器(kernal)，在形态学中称为结构元素。结构元素往往是由一个特殊的形状构成,如线条、矩形、圆等。\n",
        "\n",
        "\n",
        "dilated_img = cv2.dilate(closing_img, kernel)\n",
        "#腐蚀与膨胀属于形态学操作，所谓的形态学，就是改变物体的形状，形象理解一些：腐蚀=变瘦 膨胀=变胖\n",
        "#主要是采用 cv2.erode() 和 cv2.dilate()，需要注意一点的是，腐蚀和膨胀主要针对二值化图像的白色部分\n",
        "\n",
        "plt.imshow(dilated_img, cmap=plt.cm.gray)\n",
        "\n",
        "# create directory if it doesn't exist\n",
        "\n",
        "try:\n",
        "    os.makedirs('./cropped', exist_ok=True)#os.makedirs() 方法用于递归创建目录。\n",
        "except OSError:\n",
        "    pass\n",
        "\n",
        "fig, axs = plt.subplots(2, 3)\n",
        "# j = 1\n",
        "for i, ax in enumerate(axs.ravel()):\n",
        "    # ax.imshow(dilated_img[4:16, j:j+9], cmap=plt.cm.gray)\n",
        "    ax.imshow(dilated_img[4:16, i*20+1:i*20+10], cmap=plt.cm.gray)\n",
        "    ax.xaxis.set_visible(False)\n",
        "    ax.yaxis.set_visible(False)\n",
        "    # j+=20\n",
        "#用法： cv2.cvtColor(src, code[, dst[, dstCn]])\n",
        "masked_rgb = cv2.cvtColor(masked_img, cv2.COLOR_GRAY2RGB)# cv2.cvtColor是颜色空间转换函数，masked_img是需要转换的图片，cv2.COLOR_GRAY2RGB是转换成何种格式。\n",
        "# masked_rgb = cv2.cvtColor(cropped_img, cv2.COLOR_BGR2RGB)\n",
        "# tess_config = r'--oem 3 --psm 7'\n",
        "tess_config = r'--oem 3 --psm 1 -c tessedit_char_whitelist=abcdefghijklmnopqrstuvwxyz0123456789'\n",
        "result = pytesseract.image_to_string(masked_rgb, config=tess_config)#Python-tesseract功能是識別圖片檔案中文字,並作為返回引數返回識別結果\n",
        "# result = pytesseract.image_to_data(masked_rgb, config=tess_config)\n",
        "print(result)\n",
        "# print(str(result))\n",
        "plt.imshow(masked_rgb)\n",
        "# plt.title(str(result))"
      ],
      "execution_count": 34,
      "outputs": [
        {
          "output_type": "stream",
          "name": "stdout",
          "text": [
            "7 bdaae\n",
            "\f\n"
          ]
        },
        {
          "output_type": "execute_result",
          "data": {
            "text/plain": [
              "<matplotlib.image.AxesImage at 0x7f472c448290>"
            ]
          },
          "metadata": {},
          "execution_count": 34
        },
        {
          "output_type": "display_data",
          "data": {
            "text/plain": [
              "<Figure size 1200x800 with 1 Axes>"
            ],
            "image/png": "[encoded data removed]"
          },
          "metadata": {
            "needs_background": "light"
          }
        },
        {
          "output_type": "display_data",
          "data": {
            "text/plain": [
              "<Figure size 1200x800 with 6 Axes>"
            ],
            "image/png": "[encoded data removed]"
          },
          "metadata": {
            "needs_background": "light"
          }
        }
      ]
    },
    {
      "cell_type": "markdown",
      "metadata": {
        "id": "Slp_1cfouyzU"
      },
      "source": [
        "\n",
        "這是查看哪個部分出錯的最佳方法。 選擇感興趣區域 (ROI) 圖像處理的第一部分通常涉及獲取要處理的圖像部分。這使我們能夠降低處理能力，有時會獲得更好的結果，因為我們可以消除大部分噪音。"
      ]
    },
    {
      "cell_type": "code",
      "metadata": {
        "id": "sVqaC22yuyNi"
      },
      "source": [
        "import numpy as np\n",
        "import cv2\n",
        "import os\n",
        "from matplotlib import pyplot as plt\n",
        "\n",
        "try:\n",
        "    from PIL import Image\n",
        "except ImportError:\n",
        "    import Image\n",
        "\n",
        "import pytesseract \n",
        "\n",
        "\n",
        "plt.rcParams['figure.dpi'] = 200 #每英吋點數\n",
        "\n"
      ],
      "execution_count": 35,
      "outputs": []
    },
    {
      "cell_type": "code",
      "metadata": {
        "colab": {
          "base_uri": "https://localhost:8080/",
          "height": 777
        },
        "id": "3nmUNKrloMmn",
        "outputId": "64697ff1-8f43-4019-f460-e6a13b9d34f9"
      },
      "source": [
        "\n",
        "\n",
        "img = cv2.imread('captcha.png')\n",
        "cropped_img = img[20:35, 50:160]#把圖形不要的地方切掉\n",
        "\n",
        "plt.imshow(cropped_img[..., ::-1])\n",
        "plt.axis('off')##畫上刻度\n",
        "\n",
        "hsv = cv2.cvtColor(cropped_img, cv2.COLOR_BGR2HSV)#把圖形轉換成hsv顏色空間，方便後續處理\n",
        "lower_bound = np.zeros(3, dtype=np.uint8)#定義黑色最小值\n",
        "upper_bound = np.array([179, 50, 100], dtype=np.uint8)#定義黑色最大值\n",
        "\n",
        "masked_img = cv2.inRange(hsv, lower_bound, upper_bound)#把圖形遮罩出來，這動作可以過濾雜訊\n",
        "\n",
        "plt.imshow(masked_img, cmap=plt.cm.gray)\n",
        "plt.axis('off')\n",
        "\n",
        "kernel = cv2.getStructuringElement(cv2.MORPH_RECT, (2, 2))#cv2.getStructuringElement( ) 返回指定形状和尺寸的结构元素。\n",
        "\n",
        "closing_img = cv2.morphologyEx(masked_img, cv2.MORPH_CLOSE, kernel)\n",
        "#opencv中morphologyEx()函数是一种形态学变化函数。数学形态学可以理解为一种滤波行为，因此也称为形态学滤波。\n",
        "#滤波中用到的滤波器(kernal)，在形态学中称为结构元素。结构元素往往是由一个特殊的形状构成,如线条、矩形、圆等。\n",
        "\n",
        "\n",
        "dilated_img = cv2.dilate(closing_img, kernel)\n",
        "#腐蚀与膨胀属于形态学操作，所谓的形态学，就是改变物体的形状，形象理解一些：腐蚀=变瘦 膨胀=变胖\n",
        "#主要是采用 cv2.erode() 和 cv2.dilate()，需要注意一点的是，腐蚀和膨胀主要针对二值化图像的白色部分\n",
        "\n",
        "plt.imshow(dilated_img, cmap=plt.cm.gray)\n",
        "\n",
        "try:\n",
        "    os.makedirs('./cropped', exist_ok=True)#os.makedirs() 方法用于递归创建目录。\n",
        "except OSError:\n",
        "    pass\n",
        "\n",
        "fig, axs = plt.subplots(2, 3)\n",
        "# j = 1\n",
        "for i, ax in enumerate(axs.ravel()):\n",
        "    # ax.imshow(dilated_img[4:16, j:j+9], cmap=plt.cm.gray)\n",
        "    ax.imshow(dilated_img[4:16, i*20+1:i*20+10], cmap=plt.cm.gray)\n",
        "    ax.xaxis.set_visible(False)\n",
        "    ax.yaxis.set_visible(False)\n",
        "    # j+=20\n",
        "#用法： cv2.cvtColor(src, code[, dst[, dstCn]])\n",
        "masked_rgb = cv2.cvtColor(masked_img, cv2.COLOR_GRAY2RGB)# cv2.cvtColor是颜色空间转换函数，masked_img是需要转换的图片，cv2.COLOR_GRAY2RGB是转换成何种格式。\n",
        "# masked_rgb = cv2.cvtColor(cropped_img, cv2.COLOR_BGR2RGB)\n",
        "# tess_config = r'--oem 3 --psm 7'\n",
        "tess_config = r'--oem 3 --psm 1 -c tessedit_char_whitelist=abcdefghijklmnopqrstuvwxyz0123456789'\n",
        "result = pytesseract.image_to_string(masked_rgb, config=tess_config)#Python-tesseract功能是識別圖片檔案中文字,並作為返回引數返回識別結果\n",
        "# result = pytesseract.image_to_data(masked_rgb, config=tess_config)\n",
        "print(result)\n",
        "# print(str(result))\n",
        "plt.imshow(masked_rgb)\n",
        "# plt.title(str(result))"
      ],
      "execution_count": 36,
      "outputs": [
        {
          "output_type": "stream",
          "name": "stdout",
          "text": [
            "7 bdaae\n",
            "\f\n"
          ]
        },
        {
          "output_type": "execute_result",
          "data": {
            "text/plain": [
              "<matplotlib.image.AxesImage at 0x7f472c063510>"
            ]
          },
          "metadata": {},
          "execution_count": 36
        },
        {
          "output_type": "display_data",
          "data": {
            "text/plain": [
              "<Figure size 1200x800 with 1 Axes>"
            ],
            "image/png": "[encoded data removed]"
          },
          "metadata": {
            "needs_background": "light"
          }
        },
        {
          "output_type": "display_data",
          "data": {
            "text/plain": [
              "<Figure size 1200x800 with 6 Axes>"
            ],
            "image/png": "[encoded data removed]"
          },
          "metadata": {
            "needs_background": "light"
          }
        }
      ]
    },
    {
      "cell_type": "code",
      "metadata": {
        "colab": {
          "base_uri": "https://localhost:8080/",
          "height": 597
        },
        "id": "4YAtcETyqtt4",
        "outputId": "5f60a1a1-5ae9-41ce-eeb6-df3d64a25cf4"
      },
      "source": [
        "fig, axs = plt.subplots(2, 3)\n",
        "# j = 1\n",
        "for i, ax in enumerate(axs.ravel()):\n",
        "    # ax.imshow(dilated_img[4:16, j:j+9], cmap=plt.cm.gray)\n",
        "    ax.imshow(dilated_img[4:16, i*20+1:i*20+10], cmap=plt.cm.gray)\n",
        "    ax.xaxis.set_visible(False)\n",
        "    ax.yaxis.set_visible(False)\n",
        "    # j+=20"
      ],
      "execution_count": 37,
      "outputs": [
        {
          "output_type": "display_data",
          "data": {
            "text/plain": [
              "<Figure size 1200x800 with 6 Axes>"
            ],
            "image/png": "[encoded data removed]"
          },
          "metadata": {
            "needs_background": "light"
          }
        }
      ]
    },
    {
      "cell_type": "markdown",
      "metadata": {
        "id": "ZTthVcOaKtiL"
      },
      "source": [
        "**填寫網頁上的captcha**"
      ]
    },
    {
      "cell_type": "code",
      "metadata": {
        "id": "FXbV9bWFJTp7",
        "colab": {
          "base_uri": "https://localhost:8080/",
          "height": 213
        },
        "outputId": "ac690252-f192-4380-8658-43f72f2a7b8a"
      },
      "source": [
        "captcha = testcaptcha()\n",
        "rvcode = driver.find_element(By.NAME,\"rvcode\")#用webdrive尋找填寫程式的表單，這原始碼中可以找到\n",
        "rvcode.send_keys(captcha)#把剛才破解的captcha寫入表單\n",
        "driver.save_screenshot('filled.png')#抓一張圖看看有沒有寫入\n"
      ],
      "execution_count": 38,
      "outputs": [
        {
          "output_type": "stream",
          "name": "stdout",
          "text": [
            "7 bdaae\n",
            "\f\n"
          ]
        },
        {
          "output_type": "execute_result",
          "data": {
            "text/plain": [
              "True"
            ]
          },
          "metadata": {},
          "execution_count": 38
        },
        {
          "output_type": "display_data",
          "data": {
            "text/plain": [
              "<Figure size 1200x800 with 1 Axes>"
            ],
            "image/png": "[encoded data removed]"
          },
          "metadata": {
            "needs_background": "light"
          }
        }
      ]
    },
    {
      "cell_type": "markdown",
      "metadata": {
        "id": "TVSdivZZjI3C"
      },
      "source": [
        ""
      ]
    }
  ]
}