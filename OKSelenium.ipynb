{
  "nbformat": 4,
  "nbformat_minor": 0,
  "metadata": {
    "colab": {
      "name": "OKSelenium.ipynb",
      "provenance": [],
      "collapsed_sections": []
    },
    "kernelspec": {
      "name": "python3",
      "display_name": "Python 3"
    },
    "language_info": {
      "name": "python"
    }
  },
  "cells": [
    {
      "cell_type": "markdown",
      "metadata": {
        "id": "RYEGrpvSlETc"
      },
      "source": [
        "# 安裝套件"
      ]
    },
    {
      "cell_type": "code",
      "metadata": {
        "id": "Q4qlQy9Viacz",
        "colab": {
          "base_uri": "https://localhost:8080/"
        },
        "outputId": "109bd96f-f7aa-475b-a687-8b42ac72aab1"
      },
      "source": [
        "!apt update\n",
        "!apt install chromium-chromedriver\n",
        "!pip install selenium\n",
        "!mkdir letters"
      ],
      "execution_count": null,
      "outputs": [
        {
          "output_type": "stream",
          "name": "stdout",
          "text": [
            "\u001b[33m\r0% [Working]\u001b[0m\r            \rGet:1 http://security.ubuntu.com/ubuntu bionic-security InRelease [88.7 kB]\n",
            "Get:2 https://cloud.r-project.org/bin/linux/ubuntu bionic-cran40/ InRelease [3,626 B]\n",
            "Ign:3 https://developer.download.nvidia.com/compute/cuda/repos/ubuntu1804/x86_64  InRelease\n",
            "Hit:4 http://archive.ubuntu.com/ubuntu bionic InRelease\n",
            "Get:5 http://ppa.launchpad.net/c2d4u.team/c2d4u4.0+/ubuntu bionic InRelease [15.9 kB]\n",
            "Ign:6 https://developer.download.nvidia.com/compute/machine-learning/repos/ubuntu1804/x86_64  InRelease\n",
            "Get:7 http://archive.ubuntu.com/ubuntu bionic-updates InRelease [88.7 kB]\n",
            "Get:8 https://developer.download.nvidia.com/compute/cuda/repos/ubuntu1804/x86_64  Release [696 B]\n",
            "Hit:9 https://developer.download.nvidia.com/compute/machine-learning/repos/ubuntu1804/x86_64  Release\n",
            "Get:10 https://developer.download.nvidia.com/compute/cuda/repos/ubuntu1804/x86_64  Release.gpg [836 B]\n",
            "Hit:11 http://ppa.launchpad.net/cran/libgit2/ubuntu bionic InRelease\n",
            "Get:12 http://archive.ubuntu.com/ubuntu bionic-backports InRelease [74.6 kB]\n",
            "Hit:13 http://ppa.launchpad.net/deadsnakes/ppa/ubuntu bionic InRelease\n",
            "Get:14 http://security.ubuntu.com/ubuntu bionic-security/universe amd64 Packages [1,444 kB]\n",
            "Hit:15 http://ppa.launchpad.net/graphics-drivers/ppa/ubuntu bionic InRelease\n",
            "Get:16 http://security.ubuntu.com/ubuntu bionic-security/main amd64 Packages [2,446 kB]\n",
            "Get:17 http://security.ubuntu.com/ubuntu bionic-security/restricted amd64 Packages [685 kB]\n",
            "Get:18 http://ppa.launchpad.net/c2d4u.team/c2d4u4.0+/ubuntu bionic/main Sources [1,813 kB]\n",
            "Get:20 https://developer.download.nvidia.com/compute/cuda/repos/ubuntu1804/x86_64  Packages [829 kB]\n",
            "Get:21 http://ppa.launchpad.net/c2d4u.team/c2d4u4.0+/ubuntu bionic/main amd64 Packages [930 kB]\n",
            "Get:22 http://archive.ubuntu.com/ubuntu bionic-updates/restricted amd64 Packages [719 kB]\n",
            "Get:23 http://archive.ubuntu.com/ubuntu bionic-updates/universe amd64 Packages [2,225 kB]\n",
            "Get:24 http://archive.ubuntu.com/ubuntu bionic-updates/main amd64 Packages [2,888 kB]\n",
            "Fetched 14.3 MB in 3s (4,200 kB/s)\n",
            "Reading package lists... Done\n",
            "Building dependency tree       \n",
            "Reading state information... Done\n",
            "42 packages can be upgraded. Run 'apt list --upgradable' to see them.\n",
            "Reading package lists... Done\n",
            "Building dependency tree       \n",
            "Reading state information... Done\n",
            "The following additional packages will be installed:\n",
            "  chromium-browser chromium-browser-l10n chromium-codecs-ffmpeg-extra\n",
            "Suggested packages:\n",
            "  webaccounts-chromium-extension unity-chromium-extension\n",
            "The following NEW packages will be installed:\n",
            "  chromium-browser chromium-browser-l10n chromium-chromedriver\n",
            "  chromium-codecs-ffmpeg-extra\n",
            "0 upgraded, 4 newly installed, 0 to remove and 42 not upgraded.\n",
            "Need to get 94.0 MB of archives.\n",
            "After this operation, 324 MB of additional disk space will be used.\n",
            "Get:1 http://archive.ubuntu.com/ubuntu bionic-updates/universe amd64 chromium-codecs-ffmpeg-extra amd64 95.0.4638.69-0ubuntu0.18.04.1 [1,135 kB]\n",
            "Get:2 http://archive.ubuntu.com/ubuntu bionic-updates/universe amd64 chromium-browser amd64 95.0.4638.69-0ubuntu0.18.04.1 [83.6 MB]\n",
            "Get:3 http://archive.ubuntu.com/ubuntu bionic-updates/universe amd64 chromium-browser-l10n all 95.0.4638.69-0ubuntu0.18.04.1 [4,249 kB]\n",
            "Get:4 http://archive.ubuntu.com/ubuntu bionic-updates/universe amd64 chromium-chromedriver amd64 95.0.4638.69-0ubuntu0.18.04.1 [4,986 kB]\n",
            "Fetched 94.0 MB in 3s (27.5 MB/s)\n",
            "Selecting previously unselected package chromium-codecs-ffmpeg-extra.\n",
            "(Reading database ... 155222 files and directories currently installed.)\n",
            "Preparing to unpack .../chromium-codecs-ffmpeg-extra_95.0.4638.69-0ubuntu0.18.04.1_amd64.deb ...\n",
            "Unpacking chromium-codecs-ffmpeg-extra (95.0.4638.69-0ubuntu0.18.04.1) ...\n",
            "Selecting previously unselected package chromium-browser.\n",
            "Preparing to unpack .../chromium-browser_95.0.4638.69-0ubuntu0.18.04.1_amd64.deb ...\n",
            "Unpacking chromium-browser (95.0.4638.69-0ubuntu0.18.04.1) ...\n",
            "Selecting previously unselected package chromium-browser-l10n.\n",
            "Preparing to unpack .../chromium-browser-l10n_95.0.4638.69-0ubuntu0.18.04.1_all.deb ...\n",
            "Unpacking chromium-browser-l10n (95.0.4638.69-0ubuntu0.18.04.1) ...\n",
            "Selecting previously unselected package chromium-chromedriver.\n",
            "Preparing to unpack .../chromium-chromedriver_95.0.4638.69-0ubuntu0.18.04.1_amd64.deb ...\n",
            "Unpacking chromium-chromedriver (95.0.4638.69-0ubuntu0.18.04.1) ...\n",
            "Setting up chromium-codecs-ffmpeg-extra (95.0.4638.69-0ubuntu0.18.04.1) ...\n",
            "Setting up chromium-browser (95.0.4638.69-0ubuntu0.18.04.1) ...\n",
            "update-alternatives: using /usr/bin/chromium-browser to provide /usr/bin/x-www-browser (x-www-browser) in auto mode\n",
            "update-alternatives: using /usr/bin/chromium-browser to provide /usr/bin/gnome-www-browser (gnome-www-browser) in auto mode\n",
            "Setting up chromium-chromedriver (95.0.4638.69-0ubuntu0.18.04.1) ...\n",
            "Setting up chromium-browser-l10n (95.0.4638.69-0ubuntu0.18.04.1) ...\n",
            "Processing triggers for man-db (2.8.3-2ubuntu0.1) ...\n",
            "Processing triggers for hicolor-icon-theme (0.17-2) ...\n",
            "Processing triggers for mime-support (3.60ubuntu1) ...\n",
            "Processing triggers for libc-bin (2.27-3ubuntu1.3) ...\n",
            "/sbin/ldconfig.real: /usr/local/lib/python3.7/dist-packages/ideep4py/lib/libmkldnn.so.0 is not a symbolic link\n",
            "\n",
            "Collecting selenium\n",
            "  Downloading selenium-4.1.0-py3-none-any.whl (958 kB)\n",
            "\u001b[K     |████████████████████████████████| 958 kB 28.8 MB/s \n",
            "\u001b[?25hCollecting trio~=0.17\n",
            "  Downloading trio-0.19.0-py3-none-any.whl (356 kB)\n",
            "\u001b[K     |████████████████████████████████| 356 kB 36.6 MB/s \n",
            "\u001b[?25hCollecting urllib3[secure]~=1.26\n",
            "  Downloading urllib3-1.26.7-py2.py3-none-any.whl (138 kB)\n",
            "\u001b[K     |████████████████████████████████| 138 kB 38.3 MB/s \n",
            "\u001b[?25hCollecting trio-websocket~=0.9\n",
            "  Downloading trio_websocket-0.9.2-py3-none-any.whl (16 kB)\n",
            "Requirement already satisfied: idna in /usr/local/lib/python3.7/dist-packages (from trio~=0.17->selenium) (2.10)\n",
            "Requirement already satisfied: attrs>=19.2.0 in /usr/local/lib/python3.7/dist-packages (from trio~=0.17->selenium) (21.2.0)\n",
            "Collecting async-generator>=1.9\n",
            "  Downloading async_generator-1.10-py3-none-any.whl (18 kB)\n",
            "Collecting outcome\n",
            "  Downloading outcome-1.1.0-py2.py3-none-any.whl (9.7 kB)\n",
            "Collecting sniffio\n",
            "  Downloading sniffio-1.2.0-py3-none-any.whl (10 kB)\n",
            "Requirement already satisfied: sortedcontainers in /usr/local/lib/python3.7/dist-packages (from trio~=0.17->selenium) (2.4.0)\n",
            "Collecting wsproto>=0.14\n",
            "  Downloading wsproto-1.0.0-py3-none-any.whl (24 kB)\n",
            "Collecting cryptography>=1.3.4\n",
            "  Downloading cryptography-36.0.0-cp36-abi3-manylinux_2_24_x86_64.whl (3.6 MB)\n",
            "\u001b[K     |████████████████████████████████| 3.6 MB 47.2 MB/s \n",
            "\u001b[?25hCollecting pyOpenSSL>=0.14\n",
            "  Downloading pyOpenSSL-21.0.0-py2.py3-none-any.whl (55 kB)\n",
            "\u001b[K     |████████████████████████████████| 55 kB 2.2 MB/s \n",
            "\u001b[?25hRequirement already satisfied: certifi in /usr/local/lib/python3.7/dist-packages (from urllib3[secure]~=1.26->selenium) (2021.10.8)\n",
            "Requirement already satisfied: cffi>=1.12 in /usr/local/lib/python3.7/dist-packages (from cryptography>=1.3.4->urllib3[secure]~=1.26->selenium) (1.15.0)\n",
            "Requirement already satisfied: pycparser in /usr/local/lib/python3.7/dist-packages (from cffi>=1.12->cryptography>=1.3.4->urllib3[secure]~=1.26->selenium) (2.21)\n",
            "Requirement already satisfied: six>=1.5.2 in /usr/local/lib/python3.7/dist-packages (from pyOpenSSL>=0.14->urllib3[secure]~=1.26->selenium) (1.15.0)\n",
            "Collecting h11<1,>=0.9.0\n",
            "  Downloading h11-0.12.0-py3-none-any.whl (54 kB)\n",
            "\u001b[K     |████████████████████████████████| 54 kB 2.9 MB/s \n",
            "\u001b[?25hInstalling collected packages: sniffio, outcome, h11, cryptography, async-generator, wsproto, urllib3, trio, pyOpenSSL, trio-websocket, selenium\n",
            "  Attempting uninstall: urllib3\n",
            "    Found existing installation: urllib3 1.24.3\n",
            "    Uninstalling urllib3-1.24.3:\n",
            "      Successfully uninstalled urllib3-1.24.3\n",
            "\u001b[31mERROR: pip's dependency resolver does not currently take into account all the packages that are installed. This behaviour is the source of the following dependency conflicts.\n",
            "requests 2.23.0 requires urllib3!=1.25.0,!=1.25.1,<1.26,>=1.21.1, but you have urllib3 1.26.7 which is incompatible.\n",
            "datascience 0.10.6 requires folium==0.2.1, but you have folium 0.8.3 which is incompatible.\u001b[0m\n",
            "Successfully installed async-generator-1.10 cryptography-36.0.0 h11-0.12.0 outcome-1.1.0 pyOpenSSL-21.0.0 selenium-4.1.0 sniffio-1.2.0 trio-0.19.0 trio-websocket-0.9.2 urllib3-1.26.7 wsproto-1.0.0\n"
          ]
        }
      ]
    },
    {
      "cell_type": "markdown",
      "metadata": {
        "id": "3NK9IcXalKka"
      },
      "source": [
        "# 抓Screenshot"
      ]
    },
    {
      "cell_type": "code",
      "metadata": {
        "id": "OmCYuB7-gkr6"
      },
      "source": [
        "# install chromium, its driver, and selenium\n",
        "# set options to be headless, ..\n",
        "from selenium import webdriver\n",
        "options = webdriver.ChromeOptions()\n",
        "\n",
        "#//基礎參數設置\n",
        "options.add_argument('--headless')#無窗口模式\n",
        "options.add_argument('--no-sandbox') #禁用沙盒模式\n",
        "options.add_argument('--disable-dev-shm-usage')\n",
        "# open it, go to a website, and get results\n",
        "\n",
        "#建立瀏覽器對象,Chrome瀏覽器指定瀏覽器Firefox ：火狐Opera 歌劇院， Ie瀏覽器，Safari 蘋果瀏覽器\n",
        "\n",
        "driver = webdriver.Chrome(options=options)\n",
        "driver.get(\"http://siliconexam.com/st-register.php\")##使用瀏覽器訪問網站\n",
        "\n"
      ],
      "execution_count": null,
      "outputs": []
    },
    {
      "cell_type": "code",
      "metadata": {
        "id": "q93Sk0oPq5sW"
      },
      "source": [
        "from selenium import webdriver\n",
        "import unittest\n",
        "from selenium.webdriver.common.keys import Keys\n",
        "from PIL import Image\n",
        "from selenium.webdriver.chrome.options import Options\n",
        "from selenium.webdriver.chrome.service import Service\n",
        "from selenium.webdriver.common.by import By\n"
      ],
      "execution_count": null,
      "outputs": []
    },
    {
      "cell_type": "code",
      "metadata": {
        "id": "NzXUIfEv2o2C"
      },
      "source": [
        "import matplotlib.pyplot as plt\n",
        "import numpy as np\n",
        "import cv2\n",
        "import os\n",
        "%matplotlib inline"
      ],
      "execution_count": null,
      "outputs": []
    },
    {
      "cell_type": "code",
      "metadata": {
        "id": "kSzY1-SQjPHJ"
      },
      "source": [
        "from selenium.webdriver.support.ui import WebDriverWait\n",
        "from selenium.webdriver.common.by import By\n",
        "from selenium.webdriver.support import expected_conditions as EC"
      ],
      "execution_count": null,
      "outputs": []
    },
    {
      "cell_type": "code",
      "metadata": {
        "id": "2V4KixiIhj_C"
      },
      "source": [
        "w, h = 800,700\n",
        "driver.set_window_size(w, h)\n",
        "driver.execute_script(\"window.scrollTo(0,document.body.scrollHeight);\")#用execute_script方法作為驅動程序\n",
        "document_height = driver.execute_script(\"return document.body.scrollHeight\")\n",
        "driver.save_screenshot('bottom.png')\n",
        "\n",
        "\n",
        "captchaimage = driver.find_element(By.CLASS_NAME,\"tp\") #class複數定位\n",
        "captchaimage = driver.find_element(By.XPATH,'//img[@id=\"chkimg\"]') #xpath複數定位\n",
        "\n",
        "left = captchaimage.location['x']\n",
        "right = left + captchaimage.size['width']\n",
        "top = h - (document_height - captchaimage.location['y'])\n",
        "bottom = top + captchaimage.size['height']\n",
        "\n",
        "img = Image.open('bottom.png')\n",
        "captcha = img.crop((left, top, right, bottom))\n",
        "captcha.save('captcha.png')\n",
        "Image.open('captcha.png')\n",
        "img = plt.imread('captcha.png')"
      ],
      "execution_count": null,
      "outputs": []
    },
    {
      "cell_type": "markdown",
      "metadata": {
        "id": "WHgnLNYwHcc7"
      },
      "source": [
        "**裁切圖片及圖片單純化**\n",
        "\n"
      ]
    },
    {
      "cell_type": "code",
      "metadata": {
        "id": "W1P2YYFjJIES"
      },
      "source": [
        "def defeatCaptcha():\n",
        "\n",
        "  image = cv2.imread('captcha.png')#讀取剛才擷取的captcha圖片\n",
        "  crop=image[20:35,50:160]#把圖形不要的地方切掉，這邊切除的長寬高要自己精算，步驟比較麻煩\n",
        "  hsv=cv2.cvtColor(crop,cv2.COLOR_BGR2HSV)#圖形轉換hsv顏色空間\n",
        "  lower_black=np.array([0,0,0])#定義空間黑色的最小值\n",
        "  upper_black=np.array([179,50,100])#定義空間黑色的最大值\n",
        "  kernel = np.ones((2,2),np.uint8)#定義morphology核心\n",
        "\n",
        "  mask = cv2.inRange(hsv, lower_black, upper_black)#把圖形遮罩出來，可過濾雜訊\n",
        "  \n",
        "  #利用cv2.morphologyEx將遮罩的圖形和核心進行運算，可得出closing圖形，接下來我們再用kernel把dilation的圖形取出，此時雜訊就被過濾掉了\n",
        "  closing = cv2.morphologyEx(mask, cv2.MORPH_CLOSE, kernel)\n",
        "  dilation = cv2.dilate(closing,kernel,iterations = 1)\n",
        "\n",
        "\n",
        "  #設定內部迴圈，因為有6個文字，每個文字的寬度為20，之後再用一個list來存放6個文字的圖檔，並且用一個變數breakcode來存放6個真正的文字\n",
        "  j=1 \n",
        "  crops={}\n",
        "  breakcode=''\n",
        "\n",
        "\n",
        "  #迴圈從1到7共6個，每一個文字都被寫入從crop1.png到crop7.png。這些圖形都是從dilation，也就是處理單純化過之後的圖形來切\n",
        "  for i in range(1,7):\n",
        "    cv2.imwrite(\"crop\"+str(i)+\".png\",dilation[4:16, j:j+9])\n",
        "    crops[i]=cv2.imread(\"crop\"+str(i)+\".png\")#把6個圖檔讀入list中\n",
        "    breakcode+=str(getNumber(crops[i]))#把每個圖檔送入getNumber這個函數，會獲得圖檔所代表的文字，然後再把每個文字都串起來，最後成為一個長度為6的字串\n",
        "    j=j+20#把j+20，這就是dilation圖檔的x字元寬度\n",
        "  return breakcode#將破解完的captcha文字傳回\n",
        "\n",
        "\n",
        "#mse公式實作，有了mse，就可以計算預測文字屬於這15個文字中的哪一個最可能值，之後就可以用getNumber函數來猜文字\n",
        "def mse(imageA, imageB):\n",
        "  err = np.sum((imageA.astype(\"float\") - imageB.astype(\"float\")) ** 2)\n",
        "  err /= float(imageA.shape[0] * imageA.shape[1])\n",
        "  return err\n",
        "\n",
        "\n",
        "\n",
        "def getNumber(pic):\n",
        "  min_a = 999999999#先設定最小值先為999999999，這裡隨便設定一個極大值，之後會被替換\n",
        "  min_png = None #設定none值等一下來存放png\n",
        "  for png in os.listdir('letters'):#建立一個迴圈，把letter目錄下的所有圖形比對一次，letters下的所有圖形是我們之前建立的那15個文字的圖\n",
        "    ref = cv2.imread(\"letters/\" + png)#循序讀取這15個圖\n",
        "    if mse(ref, pic) < min_a:#ref是樣本圖，pic是captcha傳來的圖，進行mse比較，如果小於最小值的min_a，就把min_a替換成兩圈圖之間的比較值，此時再比較一次，之後把png圖檔的檔名(0~9,a~e的文字)存放在min_png中\n",
        "      min_a = mse(ref, pic)\n",
        "      min_png = png\n",
        "    return min_png[0]#傳回文字\n",
        "\n",
        "\n",
        "  "
      ],
      "execution_count": null,
      "outputs": []
    },
    {
      "cell_type": "markdown",
      "metadata": {
        "id": "C--FQU9sbJY6"
      },
      "source": [
        "OCR\n"
      ]
    },
    {
      "cell_type": "code",
      "metadata": {
        "colab": {
          "base_uri": "https://localhost:8080/"
        },
        "id": "FmbT_tXqrKlZ",
        "outputId": "66c302a6-0106-4043-91b1-364bd8e87510"
      },
      "source": [
        "!pip install pytesseract\n",
        "!apt install tesseract-ocr\n",
        "try: \n",
        "  from PIL import Image \n",
        "except ImportError: \n",
        "  import Image \n",
        "import pytesseract\n",
        "captcha = Image.open(\"captcha.png\") \n",
        "result = pytesseract.image_to_string(captcha)\n",
        "print(result)\n",
        "captcha = defeatCaptcha()\n",
        "print(captcha)"
      ],
      "execution_count": null,
      "outputs": [
        {
          "output_type": "stream",
          "name": "stdout",
          "text": [
            "Collecting pytesseract\n",
            "  Downloading pytesseract-0.3.8.tar.gz (14 kB)\n",
            "Requirement already satisfied: Pillow in /usr/local/lib/python3.7/dist-packages (from pytesseract) (7.1.2)\n",
            "Building wheels for collected packages: pytesseract\n",
            "  Building wheel for pytesseract (setup.py) ... \u001b[?25l\u001b[?25hdone\n",
            "  Created wheel for pytesseract: filename=pytesseract-0.3.8-py2.py3-none-any.whl size=14072 sha256=598a15c1046b6bb45c90b7bf4ce586a8462edd5dada29610a549e7154bfa43d5\n",
            "  Stored in directory: /root/.cache/pip/wheels/a4/89/b9/3f11250225d0f90e5454fcc30fd1b7208db226850715aa9ace\n",
            "Successfully built pytesseract\n",
            "Installing collected packages: pytesseract\n",
            "Successfully installed pytesseract-0.3.8\n",
            "Reading package lists... Done\n",
            "Building dependency tree       \n",
            "Reading state information... Done\n",
            "The following additional packages will be installed:\n",
            "  tesseract-ocr-eng tesseract-ocr-osd\n",
            "The following NEW packages will be installed:\n",
            "  tesseract-ocr tesseract-ocr-eng tesseract-ocr-osd\n",
            "0 upgraded, 3 newly installed, 0 to remove and 42 not upgraded.\n",
            "Need to get 4,795 kB of archives.\n",
            "After this operation, 15.8 MB of additional disk space will be used.\n",
            "Get:1 http://archive.ubuntu.com/ubuntu bionic/universe amd64 tesseract-ocr-eng all 4.00~git24-0e00fe6-1.2 [1,588 kB]\n",
            "Get:2 http://archive.ubuntu.com/ubuntu bionic/universe amd64 tesseract-ocr-osd all 4.00~git24-0e00fe6-1.2 [2,989 kB]\n",
            "Get:3 http://archive.ubuntu.com/ubuntu bionic/universe amd64 tesseract-ocr amd64 4.00~git2288-10f4998a-2 [218 kB]\n",
            "Fetched 4,795 kB in 1s (5,023 kB/s)\n",
            "Selecting previously unselected package tesseract-ocr-eng.\n",
            "(Reading database ... 155589 files and directories currently installed.)\n",
            "Preparing to unpack .../tesseract-ocr-eng_4.00~git24-0e00fe6-1.2_all.deb ...\n",
            "Unpacking tesseract-ocr-eng (4.00~git24-0e00fe6-1.2) ...\n",
            "Selecting previously unselected package tesseract-ocr-osd.\n",
            "Preparing to unpack .../tesseract-ocr-osd_4.00~git24-0e00fe6-1.2_all.deb ...\n",
            "Unpacking tesseract-ocr-osd (4.00~git24-0e00fe6-1.2) ...\n",
            "Selecting previously unselected package tesseract-ocr.\n",
            "Preparing to unpack .../tesseract-ocr_4.00~git2288-10f4998a-2_amd64.deb ...\n",
            "Unpacking tesseract-ocr (4.00~git2288-10f4998a-2) ...\n",
            "Setting up tesseract-ocr-osd (4.00~git24-0e00fe6-1.2) ...\n",
            "Setting up tesseract-ocr-eng (4.00~git24-0e00fe6-1.2) ...\n",
            "Setting up tesseract-ocr (4.00~git2288-10f4998a-2) ...\n",
            "Processing triggers for man-db (2.8.3-2ubuntu0.1) ...\n",
            " \n",
            "\f\n",
            "NoneNoneNoneNoneNoneNone\n"
          ]
        }
      ]
    },
    {
      "cell_type": "code",
      "metadata": {
        "colab": {
          "base_uri": "https://localhost:8080/"
        },
        "id": "svKH2ZPYqJpd",
        "outputId": "33799f30-1a00-429b-cecc-3c1ff608b0a6"
      },
      "source": [
        "!pip install pytesseract\n"
      ],
      "execution_count": null,
      "outputs": [
        {
          "output_type": "stream",
          "name": "stdout",
          "text": [
            "Requirement already satisfied: pytesseract in /usr/local/lib/python3.7/dist-packages (0.3.8)\n",
            "Requirement already satisfied: Pillow in /usr/local/lib/python3.7/dist-packages (from pytesseract) (7.1.2)\n"
          ]
        }
      ]
    },
    {
      "cell_type": "code",
      "metadata": {
        "colab": {
          "base_uri": "https://localhost:8080/"
        },
        "id": "-uQUuICVXD3v",
        "outputId": "6508863c-1387-4862-8447-9f96782e9d64"
      },
      "source": [
        "!pip install pyocr"
      ],
      "execution_count": null,
      "outputs": [
        {
          "output_type": "stream",
          "name": "stdout",
          "text": [
            "Collecting pyocr\n",
            "  Downloading pyocr-0.8.tar.gz (65 kB)\n",
            "\u001b[?25l\r\u001b[K     |█████                           | 10 kB 20.8 MB/s eta 0:00:01\r\u001b[K     |██████████                      | 20 kB 25.6 MB/s eta 0:00:01\r\u001b[K     |███████████████                 | 30 kB 30.5 MB/s eta 0:00:01\r\u001b[K     |████████████████████            | 40 kB 35.0 MB/s eta 0:00:01\r\u001b[K     |█████████████████████████       | 51 kB 28.4 MB/s eta 0:00:01\r\u001b[K     |██████████████████████████████  | 61 kB 30.6 MB/s eta 0:00:01\r\u001b[K     |████████████████████████████████| 65 kB 3.2 MB/s \n",
            "\u001b[?25hRequirement already satisfied: Pillow in /usr/local/lib/python3.7/dist-packages (from pyocr) (7.1.2)\n",
            "Building wheels for collected packages: pyocr\n",
            "  Building wheel for pyocr (setup.py) ... \u001b[?25l\u001b[?25hdone\n",
            "  Created wheel for pyocr: filename=pyocr-0.8-py3-none-any.whl size=36951 sha256=f05922d3f758d410512c52a2e59a01cfe30e25d22be67723ef57ec985c9506f0\n",
            "  Stored in directory: /root/.cache/pip/wheels/ad/ca/be/7bf9a562ca9fd00f1097ad0a952c4f0b2584f1e046588ff192\n",
            "Successfully built pyocr\n",
            "Installing collected packages: pyocr\n",
            "Successfully installed pyocr-0.8\n"
          ]
        }
      ]
    },
    {
      "cell_type": "code",
      "metadata": {
        "colab": {
          "base_uri": "https://localhost:8080/",
          "height": 225
        },
        "id": "6tbeELKHbPCJ",
        "outputId": "73a73257-b82c-494b-8884-688e07f35cd5"
      },
      "source": [
        "import pytesseract\n",
        "import shutil\n",
        "import os\n",
        "import random\n",
        "import shutil\n",
        "import random\n",
        "try:\n",
        " from PIL import Image\n",
        "except ImportError:\n",
        " import Image\n",
        "from PIL import Image\n",
        "import pyocr\n",
        "import cv2\n",
        "from google.colab.patches import cv2_imshow\n",
        "\n",
        "from IPython.display import Image\n",
        "from IPython.display import display\n",
        "\n",
        "img1 = Image(filename = '/content/crop1.png')\n",
        "img2 = Image(filename = '/content/crop2.png')\n",
        "img3 = Image(filename = '/content/crop3.png')\n",
        "img4 = Image(filename = '/content/crop4.png')\n",
        "img5 = Image(filename = '/content/crop5.png')\n",
        "img6 = Image(filename = '/content/crop6.png')\n",
        "\n",
        "paths = ['/content/crop1.png','/content/crop2.png',\n",
        "'/content/crop3.png',\n",
        "'/content/crop4.png',\n",
        "'/content/crop5.png',\n",
        "'/content/crop6.png']\n",
        "\n",
        "display(img1,img2,img3,img4,img5,img6)\n",
        "\n",
        "from PIL import Image\n",
        "\n",
        "#分別開啟圖片\n",
        "img1 = Image.open('/content/crop1.png')\n",
        "img2 = Image.open('/content/crop2.png')\n",
        "img3 = Image.open('/content/crop3.png')\n",
        "img4 = Image.open('/content/crop4.png')\n",
        "img5 = Image.open('/content/crop5.png')\n",
        "img6 = Image.open('/content/crop6.png')\n",
        "\n",
        "imgList = [img1,img2,img3,img4,img5,img6]\n",
        "\n",
        "for item in imgList:\n",
        "    print(pytesseract.image_to_string(item))"
      ],
      "execution_count": null,
      "outputs": [
        {
          "output_type": "display_data",
          "data": {
            "image/png": "[encoded data removed]",
            "text/plain": [
              "<IPython.core.display.Image object>"
            ]
          },
          "metadata": {}
        },
        {
          "output_type": "display_data",
          "data": {
            "image/png": "[encoded data removed]",
            "text/plain": [
              "<IPython.core.display.Image object>"
            ]
          },
          "metadata": {}
        },
        {
          "output_type": "display_data",
          "data": {
            "image/png": "[encoded data removed]",
            "text/plain": [
              "<IPython.core.display.Image object>"
            ]
          },
          "metadata": {}
        },
        {
          "output_type": "display_data",
          "data": {
            "image/png": "[encoded data removed]",
            "text/plain": [
              "<IPython.core.display.Image object>"
            ]
          },
          "metadata": {}
        },
        {
          "output_type": "display_data",
          "data": {
            "image/png": "[encoded data removed]",
            "text/plain": [
              "<IPython.core.display.Image object>"
            ]
          },
          "metadata": {}
        },
        {
          "output_type": "display_data",
          "data": {
            "image/png": "[encoded data removed]",
            "text/plain": [
              "<IPython.core.display.Image object>"
            ]
          },
          "metadata": {}
        },
        {
          "output_type": "stream",
          "name": "stdout",
          "text": [
            "\f\n",
            "\f\n",
            "\f\n",
            "\f\n",
            "\f\n",
            "\f\n"
          ]
        }
      ]
    },
    {
      "cell_type": "markdown",
      "metadata": {
        "id": "6kuFEacWblkM"
      },
      "source": [
        "captcha test \n"
      ]
    },
    {
      "cell_type": "code",
      "metadata": {
        "id": "311yitwfYUys"
      },
      "source": [
        "import numpy as np #將 PIL 庫讀取的影象轉換為 NumPy 陣列\n",
        "import cv2\n",
        "import os\n",
        "from matplotlib import pyplot as plt\n",
        "\n",
        "try:\n",
        "    from PIL import Image\n",
        "except ImportError:\n",
        "    import Image\n",
        "\n",
        "import pytesseract\n",
        "def testcaptcha():\n",
        "# some settings that I like\n",
        "  plt.rcParams['figure.dpi'] = 200\n",
        "  img = cv2.imread('captcha.png')\n",
        "  cropped_img = img[20:35, 50:160]\n",
        "  plt.imshow(cropped_img[..., ::-1])\n",
        "  plt.axis('off')\n",
        "  hsv = cv2.cvtColor(cropped_img, cv2.COLOR_BGR2HSV)\n",
        "  #用法：zeros(shape, dtype=float)\n",
        "  lower_bound = np.zeros(3, dtype=np.uint8)#numpy.zeros()函数提供给定形状和类型的新数组, 并用零填充。\n",
        "  #建立並初始化 numpy 陣列。numpy.array() 函式會將 PIL 影象轉換為 3 維陣列\n",
        "  upper_bound = np.array([179, 50, 100], dtype=np.uint8)#一維陣列\n",
        "\n",
        "  masked_img = cv2.inRange(hsv, lower_bound, upper_bound)#利用cv2.inRange函數設閾值，去除背景部分\n",
        "\n",
        "  plt.imshow(masked_img, cmap=plt.cm.gray)\n",
        "\n",
        "  plt.axis('off')\n",
        "  kernel = cv2.getStructuringElement(cv2.MORPH_RECT, (2, 2))\n",
        "\n",
        "  closing_img = cv2.morphologyEx(masked_img, cv2.MORPH_CLOSE, kernel)\n",
        "  dilated_img = cv2.dilate(closing_img, kernel)\n",
        "\n",
        "  plt.imshow(dilated_img, cmap=plt.cm.gray)\n",
        "  try:\n",
        "    os.makedirs('./cropped', exist_ok=True)\n",
        "  except OSError:\n",
        "    pass\n",
        "\n",
        "  masked_rgb = cv2.cvtColor(masked_img, cv2.COLOR_GRAY2RGB)\n",
        "# masked_rgb = cv2.cvtColor(cropped_img, cv2.COLOR_BGR2RGB)\n",
        "# tess_config = r'--oem 3 --psm 7'\n",
        "  tess_config = r'--oem 3 --psm 1 -c tessedit_char_whitelist=abcdefghijklmnopqrstuvwxyz0123456789'\n",
        "  result = pytesseract.image_to_string(masked_rgb, config=tess_config)\n",
        "# result = pytesseract.image_to_data(masked_rgb, config=tess_config)\n",
        "  print(result)\n",
        "# print(str(result))\n",
        "  plt.imshow(masked_rgb)\n",
        "# plt.title(str(result))\n",
        "  return result  "
      ],
      "execution_count": null,
      "outputs": []
    },
    {
      "cell_type": "code",
      "metadata": {
        "id": "pW45hVvmdk8s"
      },
      "source": [
        "import numpy as np\n",
        "import cv2\n",
        "import os\n",
        "from matplotlib import pyplot as plt\n",
        "\n",
        "try:\n",
        "    from PIL import Image\n",
        "except ImportError:\n",
        "    import Image\n",
        "\n",
        "import pytesseract #機器學習\n",
        "\n",
        "\n",
        "plt.rcParams['figure.dpi'] = 200 #每英吋點數\n"
      ],
      "execution_count": null,
      "outputs": []
    },
    {
      "cell_type": "markdown",
      "metadata": {
        "id": "DEpTEqXudnMK"
      },
      "source": [
        "這是查看哪個部分出錯的最佳方法。 選擇感興趣區域 (ROI) 圖像處理的第一部分通常涉及獲取要處理的圖像部分。這使我們能夠降低處理能力，有時會獲得更好的結果，因為我們可以消除大部分噪音。"
      ]
    },
    {
      "cell_type": "code",
      "metadata": {
        "colab": {
          "base_uri": "https://localhost:8080/",
          "height": 200
        },
        "id": "BRiLZmm7ec2f",
        "outputId": "d8bf0210-319f-4369-a599-adbdd4ff97f9"
      },
      "source": [
        "img = cv2.imread('captcha.png')\n",
        "cropped_img = img[20:35, 50:160]\n",
        "\n",
        "plt.imshow(cropped_img[..., ::-1])\n",
        "plt.axis('off')##畫上刻度"
      ],
      "execution_count": null,
      "outputs": [
        {
          "output_type": "execute_result",
          "data": {
            "text/plain": [
              "(-0.5, 109.5, 14.5, -0.5)"
            ]
          },
          "metadata": {},
          "execution_count": 20
        },
        {
          "output_type": "display_data",
          "data": {
            "image/png": "[encoded data removed]",
            "text/plain": [
              "<Figure size 1200x800 with 1 Axes>"
            ]
          },
          "metadata": {
            "needs_background": "light"
          }
        }
      ]
    },
    {
      "cell_type": "markdown",
      "metadata": {
        "id": "GLpqSLggeby8"
      },
      "source": [
        "\n",
        "圖像二值化 也是圖像處理中非常重要的一步。清除大部分背景並為圖像添加更多對比度，以便計算機可以輕鬆識別事物。"
      ]
    },
    {
      "cell_type": "code",
      "metadata": {
        "colab": {
          "base_uri": "https://localhost:8080/",
          "height": 888
        },
        "id": "e1DkL65NX-NS",
        "outputId": "37a91f46-18b4-4e70-e1d9-65df19ebadf1"
      },
      "source": [
        "hsv = cv2.cvtColor(cropped_img, cv2.COLOR_BGR2HSV)\n",
        "lower_bound = np.zeros(3, dtype=np.uint8)\n",
        "upper_bound = np.array([179, 50, 100], dtype=np.uint8)\n",
        "\n",
        "masked_img = cv2.inRange(hsv, lower_bound, upper_bound)\n",
        "\n",
        "plt.imshow(masked_img, cmap=plt.cm.gray)\n",
        "plt.axis('off')\n",
        "\n",
        "# I prefer using opencv native functions, as this\n",
        "# tells people the context of what we are doing\n",
        "# kernel = np.ones((2, 2), dtype=np.uint8)\n",
        "\n",
        "kernel = cv2.getStructuringElement(cv2.MORPH_RECT, (2, 2))#cv2.getStructuringElement( ) 返回指定形状和尺寸的结构元素。\n",
        "\n",
        "closing_img = cv2.morphologyEx(masked_img, cv2.MORPH_CLOSE, kernel)\n",
        "#openvc中morphologyEx()函数是一种形态学变化函数。数学形态学可以理解为一种滤波行为，因此也称为形态学滤波。\n",
        "#滤波中用到的滤波器(kernal)，在形态学中称为结构元素。结构元素往往是由一个特殊的形状构成,如线条、矩形、圆等。\n",
        "\n",
        "\n",
        "dilated_img = cv2.dilate(closing_img, kernel)\n",
        "#腐蚀与膨胀属于形态学操作，所谓的形态学，就是改变物体的形状，形象理解一些：腐蚀=变瘦 膨胀=变胖\n",
        "#主要是采用 cv2.erode() 和 cv2.dilate()，需要注意一点的是，腐蚀和膨胀主要针对二值化图像的白色部分\n",
        "\n",
        "plt.imshow(dilated_img, cmap=plt.cm.gray)\n",
        "\n",
        "# create directory if it doesn't exist\n",
        "\n",
        "try:\n",
        "    os.makedirs('./cropped', exist_ok=True)#os.makedirs() 方法用于递归创建目录。\n",
        "except OSError:\n",
        "    pass\n",
        "\n",
        "fig, axs = plt.subplots(2, 3)\n",
        "# j = 1\n",
        "for i, ax in enumerate(axs.ravel()):\n",
        "    # ax.imshow(dilated_img[4:16, j:j+9], cmap=plt.cm.gray)\n",
        "    ax.imshow(dilated_img[4:16, i*20+1:i*20+10], cmap=plt.cm.gray)\n",
        "    ax.xaxis.set_visible(False)\n",
        "    ax.yaxis.set_visible(False)\n",
        "    # j+=20\n",
        "#用法： cv2.cvtColor(src, code[, dst[, dstCn]])\n",
        "masked_rgb = cv2.cvtColor(masked_img, cv2.COLOR_GRAY2RGB)# cv2.cvtColor是颜色空间转换函数，masked_img是需要转换的图片，cv2.COLOR_GRAY2RGB是转换成何种格式。\n",
        "# masked_rgb = cv2.cvtColor(cropped_img, cv2.COLOR_BGR2RGB)\n",
        "# tess_config = r'--oem 3 --psm 7'\n",
        "tess_config = r'--oem 3 --psm 1 -c tessedit_char_whitelist=abcdefghijklmnopqrstuvwxyz0123456789'\n",
        "result = pytesseract.image_to_string(masked_rgb, config=tess_config)#Python-tesseract功能是識別圖片檔案中文字,並作為返回引數返回識別結果\n",
        "# result = pytesseract.image_to_data(masked_rgb, config=tess_config)\n",
        "print(result)\n",
        "# print(str(result))\n",
        "plt.imshow(masked_rgb)\n",
        "# plt.title(str(result))"
      ],
      "execution_count": null,
      "outputs": [
        {
          "output_type": "stream",
          "name": "stdout",
          "text": [
            "711011\n",
            "\f\n"
          ]
        },
        {
          "output_type": "execute_result",
          "data": {
            "text/plain": [
              "<matplotlib.image.AxesImage at 0x7fba04de47d0>"
            ]
          },
          "metadata": {},
          "execution_count": 21
        },
        {
          "output_type": "display_data",
          "data": {
            "image/png": "[encoded data removed]",
            "text/plain": [
              "<Figure size 1200x800 with 1 Axes>"
            ]
          },
          "metadata": {
            "needs_background": "light"
          }
        },
        {
          "output_type": "display_data",
          "data": {
            "image/png": "[encoded data removed]",
            "text/plain": [
              "<Figure size 1200x800 with 6 Axes>"
            ]
          },
          "metadata": {
            "needs_background": "light"
          }
        }
      ]
    },
    {
      "cell_type": "markdown",
      "metadata": {
        "id": "Slp_1cfouyzU"
      },
      "source": [
        "\n",
        "這是查看哪個部分出錯的最佳方法。 選擇感興趣區域 (ROI) 圖像處理的第一部分通常涉及獲取要處理的圖像部分。這使我們能夠降低處理能力，有時會獲得更好的結果，因為我們可以消除大部分噪音。"
      ]
    },
    {
      "cell_type": "code",
      "metadata": {
        "id": "sVqaC22yuyNi"
      },
      "source": [
        "import numpy as np\n",
        "import cv2\n",
        "import os\n",
        "from matplotlib import pyplot as plt\n",
        "\n",
        "try:\n",
        "    from PIL import Image\n",
        "except ImportError:\n",
        "    import Image\n",
        "\n",
        "import pytesseract \n",
        "\n",
        "\n",
        "plt.rcParams['figure.dpi'] = 200 #每英吋點數\n",
        "\n"
      ],
      "execution_count": null,
      "outputs": []
    },
    {
      "cell_type": "code",
      "metadata": {
        "colab": {
          "base_uri": "https://localhost:8080/",
          "height": 888
        },
        "id": "3nmUNKrloMmn",
        "outputId": "4d2e5fdb-d661-4875-ad8a-e563069388b9"
      },
      "source": [
        "\n",
        "\n",
        "img = cv2.imread('captcha.png')\n",
        "cropped_img = img[20:35, 50:160]#把圖形不要的地方切掉\n",
        "\n",
        "plt.imshow(cropped_img[..., ::-1])\n",
        "plt.axis('off')##畫上刻度\n",
        "\n",
        "hsv = cv2.cvtColor(cropped_img, cv2.COLOR_BGR2HSV)#把圖形轉換成hsv顏色空間，方便後續處理\n",
        "lower_bound = np.zeros(3, dtype=np.uint8)#定義黑色最小值\n",
        "upper_bound = np.array([179, 50, 100], dtype=np.uint8)#定義黑色最大值\n",
        "\n",
        "masked_img = cv2.inRange(hsv, lower_bound, upper_bound)#把圖形遮罩出來，這動作可以過濾雜訊\n",
        "\n",
        "plt.imshow(masked_img, cmap=plt.cm.gray)\n",
        "plt.axis('off')\n",
        "\n",
        "kernel = cv2.getStructuringElement(cv2.MORPH_RECT, (2, 2))#cv2.getStructuringElement( ) 返回指定形状和尺寸的结构元素。\n",
        "\n",
        "closing_img = cv2.morphologyEx(masked_img, cv2.MORPH_CLOSE, kernel)\n",
        "#openvc中morphologyEx()函数是一种形态学变化函数。数学形态学可以理解为一种滤波行为，因此也称为形态学滤波。\n",
        "#滤波中用到的滤波器(kernal)，在形态学中称为结构元素。结构元素往往是由一个特殊的形状构成,如线条、矩形、圆等。\n",
        "\n",
        "\n",
        "dilated_img = cv2.dilate(closing_img, kernel)\n",
        "#腐蚀与膨胀属于形态学操作，所谓的形态学，就是改变物体的形状，形象理解一些：腐蚀=变瘦 膨胀=变胖\n",
        "#主要是采用 cv2.erode() 和 cv2.dilate()，需要注意一点的是，腐蚀和膨胀主要针对二值化图像的白色部分\n",
        "\n",
        "plt.imshow(dilated_img, cmap=plt.cm.gray)\n",
        "\n",
        "try:\n",
        "    os.makedirs('./cropped', exist_ok=True)#os.makedirs() 方法用于递归创建目录。\n",
        "except OSError:\n",
        "    pass\n",
        "\n",
        "fig, axs = plt.subplots(2, 3)\n",
        "# j = 1\n",
        "for i, ax in enumerate(axs.ravel()):\n",
        "    # ax.imshow(dilated_img[4:16, j:j+9], cmap=plt.cm.gray)\n",
        "    ax.imshow(dilated_img[4:16, i*20+1:i*20+10], cmap=plt.cm.gray)\n",
        "    ax.xaxis.set_visible(False)\n",
        "    ax.yaxis.set_visible(False)\n",
        "    # j+=20\n",
        "#用法： cv2.cvtColor(src, code[, dst[, dstCn]])\n",
        "masked_rgb = cv2.cvtColor(masked_img, cv2.COLOR_GRAY2RGB)# cv2.cvtColor是颜色空间转换函数，masked_img是需要转换的图片，cv2.COLOR_GRAY2RGB是转换成何种格式。\n",
        "# masked_rgb = cv2.cvtColor(cropped_img, cv2.COLOR_BGR2RGB)\n",
        "# tess_config = r'--oem 3 --psm 7'\n",
        "tess_config = r'--oem 3 --psm 1 -c tessedit_char_whitelist=abcdefghijklmnopqrstuvwxyz0123456789'\n",
        "result = pytesseract.image_to_string(masked_rgb, config=tess_config)#Python-tesseract功能是識別圖片檔案中文字,並作為返回引數返回識別結果\n",
        "# result = pytesseract.image_to_data(masked_rgb, config=tess_config)\n",
        "print(result)\n",
        "# print(str(result))\n",
        "plt.imshow(masked_rgb)\n",
        "# plt.title(str(result))"
      ],
      "execution_count": null,
      "outputs": [
        {
          "output_type": "stream",
          "name": "stdout",
          "text": [
            "711011\n",
            "\f\n"
          ]
        },
        {
          "output_type": "execute_result",
          "data": {
            "text/plain": [
              "<matplotlib.image.AxesImage at 0x7fba054b04d0>"
            ]
          },
          "metadata": {},
          "execution_count": 14
        },
        {
          "output_type": "display_data",
          "data": {
            "image/png": "[encoded data removed]",
            "text/plain": [
              "<Figure size 1200x800 with 1 Axes>"
            ]
          },
          "metadata": {
            "needs_background": "light"
          }
        },
        {
          "output_type": "display_data",
          "data": {
            "image/png": "[encoded data removed]",
            "text/plain": [
              "<Figure size 1200x800 with 6 Axes>"
            ]
          },
          "metadata": {
            "needs_background": "light"
          }
        }
      ]
    },
    {
      "cell_type": "code",
      "metadata": {
        "colab": {
          "base_uri": "https://localhost:8080/",
          "height": 669
        },
        "id": "4YAtcETyqtt4",
        "outputId": "b5b7f6c3-dbb2-4dac-e7c3-52172bf4aea4"
      },
      "source": [
        "fig, axs = plt.subplots(2, 3)\n",
        "# j = 1\n",
        "for i, ax in enumerate(axs.ravel()):\n",
        "    # ax.imshow(dilated_img[4:16, j:j+9], cmap=plt.cm.gray)\n",
        "    ax.imshow(dilated_img[4:16, i*20+1:i*20+10], cmap=plt.cm.gray)\n",
        "    ax.xaxis.set_visible(False)\n",
        "    ax.yaxis.set_visible(False)\n",
        "    # j+=20"
      ],
      "execution_count": null,
      "outputs": [
        {
          "output_type": "display_data",
          "data": {
            "image/png": "[encoded data removed]",
            "text/plain": [
              "<Figure size 1200x800 with 6 Axes>"
            ]
          },
          "metadata": {
            "needs_background": "light"
          }
        }
      ]
    },
    {
      "cell_type": "markdown",
      "metadata": {
        "id": "ZTthVcOaKtiL"
      },
      "source": [
        "**填寫網頁上的captcha**"
      ]
    },
    {
      "cell_type": "code",
      "metadata": {
        "id": "FXbV9bWFJTp7",
        "colab": {
          "base_uri": "https://localhost:8080/",
          "height": 234
        },
        "outputId": "5625ae73-7d3e-4451-fbc4-922a41c73e9e"
      },
      "source": [
        "captcha = testcaptcha()\n",
        "rvcode = driver.find_element(By.NAME,\"rvcode\")#用webdrive尋找填寫程式的表單，這原始碼中可以找到\n",
        "rvcode.send_keys(captcha)#把剛才破解的captcha寫入表單\n",
        "driver.save_screenshot('filled.png')#抓一張圖看看有沒有寫入\n"
      ],
      "execution_count": null,
      "outputs": [
        {
          "output_type": "stream",
          "name": "stdout",
          "text": [
            "711011\n",
            "\f\n"
          ]
        },
        {
          "output_type": "execute_result",
          "data": {
            "text/plain": [
              "True"
            ]
          },
          "metadata": {},
          "execution_count": 17
        },
        {
          "output_type": "display_data",
          "data": {
            "image/png": "[encoded data removed]",
            "text/plain": [
              "<Figure size 1200x800 with 1 Axes>"
            ]
          },
          "metadata": {
            "needs_background": "light"
          }
        }
      ]
    },
    {
      "cell_type": "markdown",
      "metadata": {
        "id": "TVSdivZZjI3C"
      },
      "source": [
        ""
      ]
    }
  ]
}