{
  "nbformat": 4,
  "nbformat_minor": 0,
  "metadata": {
    "colab": {
      "provenance": [],
      "include_colab_link": true
    },
    "kernelspec": {
      "name": "python3",
      "display_name": "Python 3"
    },
    "language_info": {
      "name": "python"
    }
  },
  "cells": [
    {
      "cell_type": "markdown",
      "metadata": {
        "id": "view-in-github",
        "colab_type": "text"
      },
      "source": [
        "<a href=\"https://colab.research.google.com/github/mcg25035/Using-artificial-intelligence-to-crack-webpage-CAPTCHA/blob/main/OKSelenium.ipynb\" target=\"_parent\"><img src=\"https://colab.research.google.com/assets/colab-badge.svg\" alt=\"Open In Colab\"/></a>"
      ]
    },
    {
      "cell_type": "markdown",
      "metadata": {
        "id": "RYEGrpvSlETc"
      },
      "source": [
        "# 安裝套件"
      ]
    },
    {
      "cell_type": "code",
      "metadata": {
        "id": "Q4qlQy9Viacz",
        "colab": {
          "base_uri": "https://localhost:8080/"
        },
        "outputId": "e94f69c1-e59b-4a4e-c8bd-21811ded4bf4"
      },
      "source": [
        "!add-apt-repository ppa:alex-p/tesseract-ocr-devel -y\n",
        "!apt update\n",
        "!apt install chromium-chromedriver\n",
        "!apt install tesseract-ocr\n",
        "!apt install tesseract-ocr-eng\n",
        "!pip install selenium\n",
        "!pip install Pillow\n",
        "!pip install matplotlib\n",
        "!pip install numpy\n",
        "!pip install opencv-python\n",
        "!pip install pytesseract\n",
        "!mkdir results"
      ],
      "execution_count": 12,
      "outputs": [
        {
          "output_type": "stream",
          "name": "stdout",
          "text": [
            "Repository: 'deb https://ppa.launchpadcontent.net/alex-p/tesseract-ocr-devel/ubuntu/ jammy main'\n",
            "Description:\n",
            "This PPA contains an OCR engine - libtesseract and a command line program - tesseract. The development version available here (currntly 5.0.0 ) is better in many aspects (functionality, speed, stability) but is not 100 % API compatible with version 4.0. Tesseract 4 added a new neural net (LSTM) based OCR engine which is focused on line recognition, but also still supports the legacy Tesseract OCR engine of Tesseract 3 which works by recognizing character patterns. Compatibility with Tesseract 3 is enabled by using the Legacy OCR Engine mode (--oem 0). It also needs traineddata files which support the legacy engine, for example those from the tessdata repository. Tesseract has unicode (UTF-8) support, and can recognize more than 100 languages \"out of the box\". Tesseract supports various output formats: plain text, hOCR (HTML), PDF, invisible-text-only PDF, TSV. The master branch also has experimental support for ALTO (XML) output.\n",
            "More info: https://launchpad.net/~alex-p/+archive/ubuntu/tesseract-ocr-devel\n",
            "Adding repository.\n",
            "Found existing deb entry in /etc/apt/sources.list.d/alex-p-ubuntu-tesseract-ocr-devel-jammy.list\n",
            "Adding deb entry to /etc/apt/sources.list.d/alex-p-ubuntu-tesseract-ocr-devel-jammy.list\n",
            "Found existing deb-src entry in /etc/apt/sources.list.d/alex-p-ubuntu-tesseract-ocr-devel-jammy.list\n",
            "Adding disabled deb-src entry to /etc/apt/sources.list.d/alex-p-ubuntu-tesseract-ocr-devel-jammy.list\n",
            "Adding key to /etc/apt/trusted.gpg.d/alex-p-ubuntu-tesseract-ocr-devel.gpg with fingerprint 8529B1E0F8BF7F65C12FABB0A4BCBD87CEF9E52D\n",
            "Hit:1 http://archive.ubuntu.com/ubuntu jammy InRelease\n",
            "Hit:2 https://cloud.r-project.org/bin/linux/ubuntu jammy-cran40/ InRelease\n",
            "Hit:3 http://archive.ubuntu.com/ubuntu jammy-updates InRelease\n",
            "Hit:4 https://developer.download.nvidia.com/compute/cuda/repos/ubuntu2204/x86_64  InRelease\n",
            "Hit:5 http://archive.ubuntu.com/ubuntu jammy-backports InRelease\n",
            "Hit:6 http://security.ubuntu.com/ubuntu jammy-security InRelease\n",
            "Hit:7 https://ppa.launchpadcontent.net/alex-p/tesseract-ocr-devel/ubuntu jammy InRelease\n",
            "Hit:8 https://ppa.launchpadcontent.net/c2d4u.team/c2d4u4.0+/ubuntu jammy InRelease\n",
            "Hit:9 https://ppa.launchpadcontent.net/deadsnakes/ppa/ubuntu jammy InRelease\n",
            "Hit:10 https://ppa.launchpadcontent.net/graphics-drivers/ppa/ubuntu jammy InRelease\n",
            "Hit:11 https://ppa.launchpadcontent.net/ubuntugis/ppa/ubuntu jammy InRelease\n",
            "Reading package lists... Done\n",
            "Hit:1 http://archive.ubuntu.com/ubuntu jammy InRelease\n",
            "Hit:2 http://security.ubuntu.com/ubuntu jammy-security InRelease\n",
            "Hit:3 https://cloud.r-project.org/bin/linux/ubuntu jammy-cran40/ InRelease\n",
            "Hit:4 http://archive.ubuntu.com/ubuntu jammy-updates InRelease\n",
            "Hit:5 http://archive.ubuntu.com/ubuntu jammy-backports InRelease\n",
            "Hit:6 https://developer.download.nvidia.com/compute/cuda/repos/ubuntu2204/x86_64  InRelease\n",
            "Hit:7 https://ppa.launchpadcontent.net/alex-p/tesseract-ocr-devel/ubuntu jammy InRelease\n",
            "Hit:8 https://ppa.launchpadcontent.net/c2d4u.team/c2d4u4.0+/ubuntu jammy InRelease\n",
            "Hit:9 https://ppa.launchpadcontent.net/deadsnakes/ppa/ubuntu jammy InRelease\n",
            "Hit:10 https://ppa.launchpadcontent.net/graphics-drivers/ppa/ubuntu jammy InRelease\n",
            "Hit:11 https://ppa.launchpadcontent.net/ubuntugis/ppa/ubuntu jammy InRelease\n",
            "Reading package lists... Done\n",
            "Building dependency tree... Done\n",
            "Reading state information... Done\n",
            "6 packages can be upgraded. Run 'apt list --upgradable' to see them.\n",
            "Reading package lists... Done\n",
            "Building dependency tree... Done\n",
            "Reading state information... Done\n",
            "chromium-chromedriver is already the newest version (1:85.0.4183.83-0ubuntu2.22.04.1).\n",
            "0 upgraded, 0 newly installed, 0 to remove and 6 not upgraded.\n",
            "Reading package lists... Done\n",
            "Building dependency tree... Done\n",
            "Reading state information... Done\n",
            "tesseract-ocr is already the newest version (5.3.3+git6296-ea0b245c-1ppa1~jammy1).\n",
            "0 upgraded, 0 newly installed, 0 to remove and 6 not upgraded.\n",
            "Reading package lists... Done\n",
            "Building dependency tree... Done\n",
            "Reading state information... Done\n",
            "The following packages will be upgraded:\n",
            "  tesseract-ocr-eng\n",
            "1 upgraded, 0 newly installed, 0 to remove and 5 not upgraded.\n",
            "Need to get 1,821 kB of archives.\n",
            "After this operation, 0 B of additional disk space will be used.\n",
            "Get:1 https://ppa.launchpadcontent.net/alex-p/tesseract-ocr-devel/ubuntu jammy/main amd64 tesseract-ocr-eng all 1:5.0.0~git39-6572757-2ppa1~jammy1 [1,821 kB]\n",
            "Fetched 1,821 kB in 2s (841 kB/s)\n",
            "(Reading database ... 121455 files and directories currently installed.)\n",
            "Preparing to unpack .../tesseract-ocr-eng_1%3a5.0.0~git39-6572757-2ppa1~jammy1_all.deb ...\n",
            "Unpacking tesseract-ocr-eng (1:5.0.0~git39-6572757-2ppa1~jammy1) over (1:4.00~git30-7274cfa-1.1) ...\n",
            "Setting up tesseract-ocr-eng (1:5.0.0~git39-6572757-2ppa1~jammy1) ...\n",
            "Requirement already satisfied: selenium in /usr/local/lib/python3.10/dist-packages (4.15.2)\n",
            "Requirement already satisfied: urllib3[socks]<3,>=1.26 in /usr/local/lib/python3.10/dist-packages (from selenium) (2.0.7)\n",
            "Requirement already satisfied: trio~=0.17 in /usr/local/lib/python3.10/dist-packages (from selenium) (0.23.1)\n",
            "Requirement already satisfied: trio-websocket~=0.9 in /usr/local/lib/python3.10/dist-packages (from selenium) (0.11.1)\n",
            "Requirement already satisfied: certifi>=2021.10.8 in /usr/local/lib/python3.10/dist-packages (from selenium) (2023.11.17)\n",
            "Requirement already satisfied: attrs>=20.1.0 in /usr/local/lib/python3.10/dist-packages (from trio~=0.17->selenium) (23.1.0)\n",
            "Requirement already satisfied: sortedcontainers in /usr/local/lib/python3.10/dist-packages (from trio~=0.17->selenium) (2.4.0)\n",
            "Requirement already satisfied: idna in /usr/local/lib/python3.10/dist-packages (from trio~=0.17->selenium) (3.6)\n",
            "Requirement already satisfied: outcome in /usr/local/lib/python3.10/dist-packages (from trio~=0.17->selenium) (1.3.0.post0)\n",
            "Requirement already satisfied: sniffio>=1.3.0 in /usr/local/lib/python3.10/dist-packages (from trio~=0.17->selenium) (1.3.0)\n",
            "Requirement already satisfied: exceptiongroup>=1.0.0rc9 in /usr/local/lib/python3.10/dist-packages (from trio~=0.17->selenium) (1.2.0)\n",
            "Requirement already satisfied: wsproto>=0.14 in /usr/local/lib/python3.10/dist-packages (from trio-websocket~=0.9->selenium) (1.2.0)\n",
            "Requirement already satisfied: pysocks!=1.5.7,<2.0,>=1.5.6 in /usr/local/lib/python3.10/dist-packages (from urllib3[socks]<3,>=1.26->selenium) (1.7.1)\n",
            "Requirement already satisfied: h11<1,>=0.9.0 in /usr/local/lib/python3.10/dist-packages (from wsproto>=0.14->trio-websocket~=0.9->selenium) (0.14.0)\n",
            "Requirement already satisfied: Pillow in /usr/local/lib/python3.10/dist-packages (9.4.0)\n",
            "Requirement already satisfied: matplotlib in /usr/local/lib/python3.10/dist-packages (3.7.1)\n",
            "Requirement already satisfied: contourpy>=1.0.1 in /usr/local/lib/python3.10/dist-packages (from matplotlib) (1.2.0)\n",
            "Requirement already satisfied: cycler>=0.10 in /usr/local/lib/python3.10/dist-packages (from matplotlib) (0.12.1)\n",
            "Requirement already satisfied: fonttools>=4.22.0 in /usr/local/lib/python3.10/dist-packages (from matplotlib) (4.45.1)\n",
            "Requirement already satisfied: kiwisolver>=1.0.1 in /usr/local/lib/python3.10/dist-packages (from matplotlib) (1.4.5)\n",
            "Requirement already satisfied: numpy>=1.20 in /usr/local/lib/python3.10/dist-packages (from matplotlib) (1.23.5)\n",
            "Requirement already satisfied: packaging>=20.0 in /usr/local/lib/python3.10/dist-packages (from matplotlib) (23.2)\n",
            "Requirement already satisfied: pillow>=6.2.0 in /usr/local/lib/python3.10/dist-packages (from matplotlib) (9.4.0)\n",
            "Requirement already satisfied: pyparsing>=2.3.1 in /usr/local/lib/python3.10/dist-packages (from matplotlib) (3.1.1)\n",
            "Requirement already satisfied: python-dateutil>=2.7 in /usr/local/lib/python3.10/dist-packages (from matplotlib) (2.8.2)\n",
            "Requirement already satisfied: six>=1.5 in /usr/local/lib/python3.10/dist-packages (from python-dateutil>=2.7->matplotlib) (1.16.0)\n",
            "Requirement already satisfied: numpy in /usr/local/lib/python3.10/dist-packages (1.23.5)\n",
            "Requirement already satisfied: opencv-python in /usr/local/lib/python3.10/dist-packages (4.8.0.76)\n",
            "Requirement already satisfied: numpy>=1.21.2 in /usr/local/lib/python3.10/dist-packages (from opencv-python) (1.23.5)\n",
            "Requirement already satisfied: pytesseract in /usr/local/lib/python3.10/dist-packages (0.3.10)\n",
            "Requirement already satisfied: packaging>=21.3 in /usr/local/lib/python3.10/dist-packages (from pytesseract) (23.2)\n",
            "Requirement already satisfied: Pillow>=8.0.0 in /usr/local/lib/python3.10/dist-packages (from pytesseract) (9.4.0)\n",
            "mkdir: cannot create directory ‘results’: File exists\n"
          ]
        }
      ]
    },
    {
      "cell_type": "markdown",
      "metadata": {
        "id": "3NK9IcXalKka"
      },
      "source": [
        "# 套件引入"
      ]
    },
    {
      "cell_type": "code",
      "metadata": {
        "id": "OmCYuB7-gkr6"
      },
      "source": [
        "from selenium import webdriver\n",
        "from selenium.webdriver.chrome.options import Options\n",
        "from selenium.webdriver.chrome.service import Service\n",
        "from selenium.webdriver.support.ui import WebDriverWait\n",
        "from selenium.webdriver.support import expected_conditions as EC\n",
        "from selenium.webdriver.common.by import By\n",
        "from selenium.webdriver.common.keys import Keys\n",
        "from PIL import Image\n",
        "from google.colab.patches import cv2_imshow\n",
        "import matplotlib.pyplot as plt\n",
        "import numpy as np\n",
        "import cv2\n",
        "import os\n",
        "import pytesseract\n",
        "import time\n"
      ],
      "execution_count": 2,
      "outputs": []
    },
    {
      "cell_type": "markdown",
      "source": [
        "# 文字辨識函式\n",
        "\n"
      ],
      "metadata": {
        "id": "Y-XJY5erXYmM"
      }
    },
    {
      "cell_type": "code",
      "source": [
        "# convert image to char\n",
        "def ocr_char(img):\n",
        "    # cv2_imshow(img)\n",
        "    tess_config = r'--oem 3 --psm 7 -c tessedit_char_whitelist=o123456789abcdefg'\n",
        "    char = pytesseract.image_to_string(image=img, config=tess_config)\n",
        "    char = char.replace(\"\\n\",\"\").replace(\" \",\"\").replace(\"o\",\"0\")\n",
        "    print(char)\n",
        "    if len(char) == 0:\n",
        "        char = \"8\"\n",
        "    return char"
      ],
      "metadata": {
        "id": "tFMUMpKYXdud"
      },
      "execution_count": 4,
      "outputs": []
    },
    {
      "cell_type": "markdown",
      "source": [
        "# 裁切、去雜訊函式"
      ],
      "metadata": {
        "id": "pN1QeqOjXk2g"
      }
    },
    {
      "cell_type": "code",
      "source": [
        "# reduce noises in image\n",
        "def denoise_img(img):\n",
        "    img = img.astype(float) / 255\n",
        "    brightness = 1 - np.max(img, axis=2)\n",
        "    brightness = (255 * brightness).astype(np.uint8)\n",
        "    binaryThresh = 230\n",
        "    # image_show_debug(\"test\", brightness)\n",
        "    filtered = cv2.threshold(brightness, binaryThresh, 255, cv2.THRESH_BINARY)[1]\n",
        "    # image_show_debug(\"test\", filtered)\n",
        "    return filtered"
      ],
      "metadata": {
        "id": "7iq7rV7ZXoFT"
      },
      "execution_count": 5,
      "outputs": []
    },
    {
      "cell_type": "code",
      "source": [
        "# split the image by chars\n",
        "def split_img(img):\n",
        "\timg = img[20:35,49:160]\n",
        "\tx_px_indx = 1\n",
        "\tresult = []\n",
        "\tfor i in range(1,7):\n",
        "\t\tresult.append(img[2:16, x_px_indx:x_px_indx+9])\n",
        "\t\tx_px_indx += 20\n",
        "\treturn result"
      ],
      "metadata": {
        "id": "oBK4UQirXr8s"
      },
      "execution_count": 6,
      "outputs": []
    },
    {
      "cell_type": "markdown",
      "source": [
        "# 總解碼函式"
      ],
      "metadata": {
        "id": "aMLpmFNiXxME"
      }
    },
    {
      "cell_type": "code",
      "source": [
        "# convert image to string\n",
        "def decode(captcha_img):\n",
        "    # image_show_debug(\"test\", captcha_img)\n",
        "    result = \"\"\n",
        "    splited_text_img = split_img(denoise_img(captcha_img))\n",
        "    for i in splited_text_img:\n",
        "        result += ocr_char(i)\n",
        "    return result"
      ],
      "metadata": {
        "id": "PGv8sI-QX5YI"
      },
      "execution_count": 7,
      "outputs": []
    },
    {
      "cell_type": "markdown",
      "source": [
        "# 主程式"
      ],
      "metadata": {
        "id": "IAthCUYNX_fN"
      }
    },
    {
      "cell_type": "markdown",
      "source": [
        "瀏覽器初始化"
      ],
      "metadata": {
        "id": "3YUFrYj9YKhE"
      }
    },
    {
      "cell_type": "code",
      "source": [
        "# initalizing the browser\n",
        "service = Service()\n",
        "options = webdriver.ChromeOptions()\n",
        "options.add_argument('--headless')\n",
        "options.add_argument('--no-sandbox')\n",
        "options.add_argument('--disable-dev-shm-usage')\n",
        "driver = webdriver.Chrome(service=service, options=options)\n",
        "driver.get(\"http://siliconexam.com/st-register.php\")"
      ],
      "metadata": {
        "id": "EWuJkz2gYCys"
      },
      "execution_count": 88,
      "outputs": []
    },
    {
      "cell_type": "markdown",
      "source": [
        "取得captcha影像"
      ],
      "metadata": {
        "id": "tqHL8wYqYR2R"
      }
    },
    {
      "cell_type": "code",
      "source": [
        "# getting the captcha image\n",
        "w, h = 800,700\n",
        "driver.set_window_size(w, h)\n",
        "driver.execute_script(\"window.scrollTo(0,document.body.scrollHeight);\")\n",
        "document_height = driver.execute_script(\"return document.body.scrollHeight\")\n",
        "driver.save_screenshot('bottom.png')\n",
        "\n",
        "captchaimage = driver.find_element(By.CLASS_NAME,\"tp\")\n",
        "captchaimage = driver.find_element(By.XPATH,'//img[@id=\"chkimg\"]')\n",
        "\n",
        "left = captchaimage.location['x']\n",
        "right = left + captchaimage.size['width']\n",
        "top = h - (document_height - captchaimage.location['y'])\n",
        "bottom = top + captchaimage.size['height']"
      ],
      "metadata": {
        "id": "0CGLAQp6YUc3"
      },
      "execution_count": 89,
      "outputs": []
    },
    {
      "cell_type": "markdown",
      "source": [
        "存成圖片檔(之後給opencv讀寫)"
      ],
      "metadata": {
        "id": "aFsIUNH-YefF"
      }
    },
    {
      "cell_type": "code",
      "source": [
        "# save to png file\n",
        "img = Image.open('bottom.png')\n",
        "captcha = img.crop((left, top, right, bottom))\n",
        "captcha.save('captcha.png')\n"
      ],
      "metadata": {
        "id": "usLb682kYk8j"
      },
      "execution_count": 90,
      "outputs": []
    },
    {
      "cell_type": "markdown",
      "source": [
        "套用圖片辨識函式"
      ],
      "metadata": {
        "id": "oN3HxUhkYsbr"
      }
    },
    {
      "cell_type": "code",
      "source": [
        "# appling ocr functions\n",
        "img = cv2.imread('captcha.png')\n",
        "result = decode(img)"
      ],
      "metadata": {
        "colab": {
          "base_uri": "https://localhost:8080/",
          "height": 0
        },
        "id": "iWevuQ2BYuvy",
        "outputId": "6dbf1c61-64a1-44c6-ad11-7842595cc22b"
      },
      "execution_count": 91,
      "outputs": [
        {
          "output_type": "display_data",
          "data": {
            "text/plain": [
              "<PIL.Image.Image image mode=L size=9x13>"
            ],
            "image/png": "[encoded data removed]"
          },
          "metadata": {}
        },
        {
          "output_type": "display_data",
          "data": {
            "text/plain": [
              "<PIL.Image.Image image mode=L size=9x13>"
            ],
            "image/png": "[encoded data removed]"
          },
          "metadata": {}
        },
        {
          "output_type": "stream",
          "name": "stdout",
          "text": [
            "d\n"
          ]
        },
        {
          "output_type": "display_data",
          "data": {
            "text/plain": [
              "<PIL.Image.Image image mode=L size=9x13>"
            ],
            "image/png": "[encoded data removed]"
          },
          "metadata": {}
        },
        {
          "output_type": "display_data",
          "data": {
            "text/plain": [
              "<PIL.Image.Image image mode=L size=9x13>"
            ],
            "image/png": "[encoded data removed]"
          },
          "metadata": {}
        },
        {
          "output_type": "stream",
          "name": "stdout",
          "text": [
            "2\n"
          ]
        },
        {
          "output_type": "display_data",
          "data": {
            "text/plain": [
              "<PIL.Image.Image image mode=L size=9x13>"
            ],
            "image/png": "[encoded data removed]"
          },
          "metadata": {}
        },
        {
          "output_type": "display_data",
          "data": {
            "text/plain": [
              "<PIL.Image.Image image mode=L size=9x13>"
            ],
            "image/png": "[encoded data removed]"
          },
          "metadata": {}
        },
        {
          "output_type": "stream",
          "name": "stdout",
          "text": [
            "2\n"
          ]
        },
        {
          "output_type": "display_data",
          "data": {
            "text/plain": [
              "<PIL.Image.Image image mode=L size=9x13>"
            ],
            "image/png": "[encoded data removed]"
          },
          "metadata": {}
        },
        {
          "output_type": "display_data",
          "data": {
            "text/plain": [
              "<PIL.Image.Image image mode=L size=9x13>"
            ],
            "image/png": "[encoded data removed]"
          },
          "metadata": {}
        },
        {
          "output_type": "stream",
          "name": "stdout",
          "text": [
            "f\n"
          ]
        },
        {
          "output_type": "display_data",
          "data": {
            "text/plain": [
              "<PIL.Image.Image image mode=L size=9x13>"
            ],
            "image/png": "[encoded data removed]"
          },
          "metadata": {}
        },
        {
          "output_type": "display_data",
          "data": {
            "text/plain": [
              "<PIL.Image.Image image mode=L size=9x13>"
            ],
            "image/png": "[encoded data removed]"
          },
          "metadata": {}
        },
        {
          "output_type": "stream",
          "name": "stdout",
          "text": [
            "2\n"
          ]
        },
        {
          "output_type": "display_data",
          "data": {
            "text/plain": [
              "<PIL.Image.Image image mode=L size=9x13>"
            ],
            "image/png": "[encoded data removed]"
          },
          "metadata": {}
        },
        {
          "output_type": "display_data",
          "data": {
            "text/plain": [
              "<PIL.Image.Image image mode=L size=9x13>"
            ],
            "image/png": "[encoded data removed]"
          },
          "metadata": {}
        },
        {
          "output_type": "stream",
          "name": "stdout",
          "text": [
            "f\n"
          ]
        }
      ]
    },
    {
      "cell_type": "markdown",
      "source": [
        "填寫回網站"
      ],
      "metadata": {
        "id": "y6gfzcBrY68Z"
      }
    },
    {
      "cell_type": "code",
      "source": [
        "# write back to website\n",
        "input_element = driver.find_element(By.NAME,\"rvcode\")\n",
        "input_element.send_keys(result)"
      ],
      "metadata": {
        "id": "haNnLlCWY9p7"
      },
      "execution_count": 92,
      "outputs": []
    },
    {
      "cell_type": "markdown",
      "source": [
        "儲存執行結果"
      ],
      "metadata": {
        "id": "xYYD1VQCZDKC"
      }
    },
    {
      "cell_type": "code",
      "source": [
        "# save tests result to folder\n",
        "file_suffix = -1\n",
        "pathtofile = \"\"\n",
        "while True:\n",
        "    file_suffix += 1\n",
        "    pathtofile = f\"results/test{str(file_suffix)}.png\"\n",
        "    if (not os.path.exists(pathtofile)):\n",
        "        break\n",
        "\n",
        "driver.save_screenshot(pathtofile)"
      ],
      "metadata": {
        "colab": {
          "base_uri": "https://localhost:8080/"
        },
        "id": "opKx1u15ZGZ6",
        "outputId": "52b616f4-3cbc-49c9-edad-67640833fb6c"
      },
      "execution_count": 93,
      "outputs": [
        {
          "output_type": "execute_result",
          "data": {
            "text/plain": [
              "True"
            ]
          },
          "metadata": {},
          "execution_count": 93
        }
      ]
    }
  ]
}